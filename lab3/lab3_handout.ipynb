{
 "cells": [
  {
   "cell_type": "markdown",
   "id": "8d1d6992",
   "metadata": {},
   "source": [
    "---\n",
    "\n",
    "<h1><center>SDSE Lab 3 <br><br> K-means clustering </center></h1>\n",
    "\n",
    "---"
   ]
  },
  {
   "cell_type": "code",
   "execution_count": null,
   "id": "d8a1b20a",
   "metadata": {},
   "outputs": [],
   "source": [
    "result = {\n",
    "    'group' : 20, # enter your group number here\n",
    "    'SIDs': [0,0] # enter the SIDs for the group members\n",
    "}"
   ]
  },
  {
   "cell_type": "code",
   "execution_count": null,
   "id": "ffe6bff8",
   "metadata": {},
   "outputs": [],
   "source": [
    "import numpy as np\n",
    "import matplotlib.pyplot as plt\n",
    "import pickle\n",
    "import scipy.stats as stats"
   ]
  },
  {
   "cell_type": "markdown",
   "id": "249c15f9",
   "metadata": {},
   "source": [
    "# 1) Load the data\n",
    "Use `pickle.load` to load `data2d.pickle`. This file contains a single matrix called `X`. Use variables `N` and `D` for the number of rows (samples) and columns (features) respectively. (2 pts)"
   ]
  },
  {
   "cell_type": "code",
   "execution_count": null,
   "id": "e91d1404",
   "metadata": {},
   "outputs": [],
   "source": [
    "with open('data2d.pickle','rb') as file:\n",
    "    X = pickle.load(file)\n",
    "    \n",
    "N = X.shape[0]\n",
    "D = X.shape[1]"
   ]
  },
  {
   "cell_type": "code",
   "execution_count": null,
   "id": "fc142c5b",
   "metadata": {},
   "outputs": [],
   "source": [
    "################################\n",
    "# Reporting. Do not modify.#####\n",
    "result['N'] = N\n",
    "result['D'] = D\n",
    "################################"
   ]
  },
  {
   "cell_type": "markdown",
   "id": "2bc52794",
   "metadata": {},
   "source": [
    "# 2) Scatter plot\n",
    "Create a scatter plot with the first column along the x-axis and the second column along the y-axis. Use `plt.axis('equal')` to force the two axes to have the same scale. This is important for correct visualization of the Euclidean distances between points. Save your figure handle to `fig2`. (2 pts)"
   ]
  },
  {
   "cell_type": "code",
   "execution_count": null,
   "id": "f0537ad4",
   "metadata": {},
   "outputs": [],
   "source": [
    "fig2 = plt.figure(figsize=(5,5))\n",
    "# ADD YOUR CODE HERE"
   ]
  },
  {
   "cell_type": "code",
   "execution_count": null,
   "id": "04d930f8",
   "metadata": {},
   "outputs": [],
   "source": [
    "################################\n",
    "# Reporting. Do not modify.#####\n",
    "result['fig2'] = fig2\n",
    "################################"
   ]
  },
  {
   "cell_type": "markdown",
   "id": "bc5f0929",
   "metadata": {},
   "source": [
    "# 3) Initialize centroids\n",
    "Complete the function below that takes the number of centroids `K` and the data matrix `X` and returns `K` randomly placed centroids. The centroids should be selected according to a uniform distribution that spans a box fitted to the data. The return value should be a numpy array with shape `(K,D)` where `D` is the number of columns in X. Make sure this function  works for for values of `D` other than 2. (6 pts)"
   ]
  },
  {
   "cell_type": "code",
   "execution_count": null,
   "id": "9dd2eac2",
   "metadata": {},
   "outputs": [],
   "source": [
    "def initialize_centroids(K,X):\n",
    "    pass\n",
    "    # REMOVE THE pass AND ADD YOUR CODE HERE"
   ]
  },
  {
   "cell_type": "code",
   "execution_count": null,
   "id": "490b9fa7",
   "metadata": {},
   "outputs": [],
   "source": [
    "################################\n",
    "# Reporting. Do not modify.#####\n",
    "result['C3'] = initialize_centroids(3,X)\n",
    "################################"
   ]
  },
  {
   "cell_type": "markdown",
   "id": "7d16f873",
   "metadata": {},
   "source": [
    "# 4) Compute the assignment for given centroids\n",
    "Complete the function below that takes the data matrix and centroid locations, and returns an assignment matrix `r`. `r` should be a numpy array with shape `(N,K)`. Each row of `r` should contain `K-1` `False` values and one `True` value in the position corresponding to the centroid that is nearest to that data point (Euclidean distance). (6 pts)"
   ]
  },
  {
   "cell_type": "code",
   "execution_count": null,
   "id": "318725fc",
   "metadata": {},
   "outputs": [],
   "source": [
    "def assign_samples_to_nearest_centroid(X,C):\n",
    "    N = X.shape[0]\n",
    "    K = C.shape[0]\n",
    "    r = np.zeros((N,K))==True\n",
    "    \n",
    "    # ADD YOUR CODE HERE\n",
    "    \n",
    "    return r"
   ]
  },
  {
   "cell_type": "code",
   "execution_count": null,
   "id": "3a680ce9",
   "metadata": {},
   "outputs": [],
   "source": [
    "################################\n",
    "# Reporting. Do not modify.#####\n",
    "result['r4'] = assign_samples_to_nearest_centroid(X,result['C3'])\n",
    "################################"
   ]
  },
  {
   "attachments": {
    "image.png": {
     "image/png": "[encoded data removed]"
    }
   },
   "cell_type": "markdown",
   "id": "be32df09",
   "metadata": {},
   "source": [
    "# 5) Plot data, centroids, assignment\n",
    "Complete the function below that takes the data matrix, a set of centroids, and an assignment matrix and creates a scatter plot similar to the one shown here. The centroids should be indicated with a large dot, and the data samples should be color-coded according to their cluster membership. Your plot may not be identical to this one due to the random placement of the centroids. (6 pts)\n",
    "\n",
    "![image.png](attachment:image.png)"
   ]
  },
  {
   "cell_type": "code",
   "execution_count": null,
   "id": "ee58631f",
   "metadata": {},
   "outputs": [],
   "source": [
    "def plot_scatter(X, C, r):\n",
    "    K = r.shape[1]\n",
    "    fig = plt.figure(figsize=(5,5))\n",
    "    \n",
    "    # ADD YOUR CODE HERE\n",
    "    \n",
    "    return fig"
   ]
  },
  {
   "cell_type": "code",
   "execution_count": null,
   "id": "2d63a996",
   "metadata": {},
   "outputs": [],
   "source": [
    "################################\n",
    "# Reporting. Do not modify.#####\n",
    "result['fig5'] = plot_scatter(X, result['C3'], result['r4'])\n",
    "################################"
   ]
  },
  {
   "cell_type": "markdown",
   "id": "bed3c565",
   "metadata": {},
   "source": [
    "# 6) Compute the centroids for a given assignment\n",
    "Complete the function below that takes the assignment and the data matrix and returns centroids placed at the mean of each cluster. The return value should be a numpy array with shape `(K,D)`. (6 pts)"
   ]
  },
  {
   "cell_type": "code",
   "execution_count": null,
   "id": "fe53f2f7",
   "metadata": {},
   "outputs": [],
   "source": [
    "def place_centroids(r, X):\n",
    "    K = r.shape[1]\n",
    "    D = X.shape[1]\n",
    "    C = np.empty((K,D))\n",
    "    \n",
    "    # ADD YOUR CODE HERE\n",
    "    \n",
    "    return C"
   ]
  },
  {
   "cell_type": "code",
   "execution_count": null,
   "id": "8f94b5fd",
   "metadata": {},
   "outputs": [],
   "source": [
    "################################\n",
    "# Reporting. Do not modify.#####\n",
    "result['C6'] = place_centroids(result['r4'], X)\n",
    "################################"
   ]
  },
  {
   "cell_type": "markdown",
   "id": "2fe85937",
   "metadata": {},
   "source": [
    "# 7) Code simple k-means\n",
    "Now we will use some of the functions we've developed to code the full k-means algorithm. \n",
    "\n",
    "Most of the algorithm is done for you in terms of the functions you've already written. Your task is only to implement the stopping criterion, which is to stop as soon as the assignment `r` does not change from one iteration to the next (4 pts)."
   ]
  },
  {
   "cell_type": "code",
   "execution_count": null,
   "id": "8bba0755",
   "metadata": {},
   "outputs": [],
   "source": [
    "def run_kmeans(X,C):\n",
    "\n",
    "    done = False\n",
    "    first = True\n",
    "    \n",
    "    while not done:\n",
    "\n",
    "        r = assign_samples_to_nearest_centroid(X,C)\n",
    "        C = place_centroids(r, X)\n",
    "\n",
    "        if True: # REPLACE THE True WITH THE CORRECT STOPPING CRITERION\n",
    "            break\n",
    "            \n",
    "        rold = r\n",
    "        first = False\n",
    "\n",
    "    return C, r"
   ]
  },
  {
   "cell_type": "code",
   "execution_count": null,
   "id": "09b8ffc8",
   "metadata": {},
   "outputs": [],
   "source": [
    "################################\n",
    "# Reporting. Do not modify.#####\n",
    "result['kmeans7'] = run_kmeans(X,result['C3'])\n",
    "################################"
   ]
  },
  {
   "cell_type": "markdown",
   "id": "6d3b6abb",
   "metadata": {},
   "source": [
    "# 8) Evaluate the cost function \n",
    "Complete the function below that evaluates the intertia for a given data matrix, centroid placement, and assignment matrix. The result is a scalar value. (6 pts)"
   ]
  },
  {
   "cell_type": "code",
   "execution_count": null,
   "id": "8e90e43e",
   "metadata": {},
   "outputs": [],
   "source": [
    "def eval_cost(X,C,r):\n",
    "    K = r.shape[1]\n",
    "    cost = None # REPLACE THE None WITH THE CORRECT COST FUNCTION\n",
    "    return cost"
   ]
  },
  {
   "cell_type": "code",
   "execution_count": null,
   "id": "fdcb797f",
   "metadata": {},
   "outputs": [],
   "source": [
    "################################\n",
    "# Reporting. Do not modify.#####\n",
    "result['cost8'] = eval_cost(X,result['C3'],result['r4'])\n",
    "################################"
   ]
  },
  {
   "cell_type": "markdown",
   "id": "4ad7dc0f",
   "metadata": {},
   "source": [
    "# 9) Ensemble run\n",
    "Complete the function below that runs kmeans `ensemblesize` times, each with a different initial centroid placement. These initial placements should be chosen with `initialize_centroids(K,X)`. The function should return the single run with the lowest cost. Results should be returned in a **dictionary** with keys `('C','r','cost')`. `C` are the best centroids, `r` is the best assignment, and `cost` is the corresponding cost. (6 pts)"
   ]
  },
  {
   "cell_type": "code",
   "execution_count": null,
   "id": "af323e60",
   "metadata": {},
   "outputs": [],
   "source": [
    "def ensemble_run(K,X,ensemblesize):\n",
    "    best_run = {'C':None,'r':None,'cost':None}\n",
    "    for e in range(ensemblesize):\n",
    "        C = initialize_centroids(K,X)\n",
    "        C, r = run_kmeans(X,C)\n",
    "        cost = eval_cost(X,C,r)\n",
    "       \n",
    "        # ADD CODE HERE THAT WILL KEEP ONLY THE BEST RUN\n",
    "    \n",
    "    return best_run"
   ]
  },
  {
   "cell_type": "code",
   "execution_count": null,
   "id": "561898e3",
   "metadata": {},
   "outputs": [],
   "source": [
    "################################\n",
    "# Reporting. Do not modify.#####\n",
    "result['ens9'] = ensemble_run(3,X,100)\n",
    "################################"
   ]
  },
  {
   "cell_type": "markdown",
   "id": "61d67976",
   "metadata": {},
   "source": [
    "# 10) Iteration over K\n",
    "Complete the function below that takes the data matrix, a sample size, and a maximum number of clusters to consider (`maxK`).  The function should run `ensemble_run` for all values of `K` from 1 to `maxK`. It should return a numpy array of length `maxK-1` with the best case cost for each value of `K`. (6 pts)"
   ]
  },
  {
   "cell_type": "code",
   "execution_count": null,
   "id": "afc7024c",
   "metadata": {},
   "outputs": [],
   "source": [
    "def K_iteration(X, ensemblesize, maxK=10):\n",
    "    allK = list(range(1,maxK))\n",
    "    best_cost = np.empty(len(allK))\n",
    "    \n",
    "    # ADD CODE HERE\n",
    "    \n",
    "    return best_cost"
   ]
  },
  {
   "cell_type": "markdown",
   "id": "46bdd5ca",
   "metadata": {},
   "source": [
    "# 11) Selecting K\n",
    "\n",
    "We now run `K_iteration` with `ensemblesize=200`, `maxK=10` and plot the result. The plot shows the percent improvement of each `K` over `K-1`. From this plot, choose an ideal value for `K` and report it in the results dictionary as `Kideal`. (4 pts)"
   ]
  },
  {
   "cell_type": "code",
   "execution_count": null,
   "id": "2ea62719",
   "metadata": {},
   "outputs": [],
   "source": [
    "ensemblesize = 200\n",
    "maxK=10\n",
    "best_cost = K_iteration(X, ensemblesize, maxK)\n",
    "\n",
    "fig11 = plt.figure(figsize=(8,5))\n",
    "allK = list(range(1,maxK))\n",
    "plt.plot(allK[1:],100*np.abs(np.diff(best_cost)) / best_cost[1:],\n",
    "         linewidth=3,\n",
    "         marker='o',\n",
    "         markersize=8)\n",
    "plt.grid()\n",
    "plt.xticks(fontsize=16)\n",
    "plt.yticks(fontsize=16)\n",
    "plt.show"
   ]
  },
  {
   "cell_type": "code",
   "execution_count": null,
   "id": "cb3be597",
   "metadata": {},
   "outputs": [],
   "source": [
    "# REPLACE THE None WITH YOUR Kideal VALUE.\n",
    "\n",
    "Kideal = None"
   ]
  },
  {
   "cell_type": "code",
   "execution_count": null,
   "id": "fca282c2",
   "metadata": {},
   "outputs": [],
   "source": [
    "################################\n",
    "# Reporting. Do not modify.#####\n",
    "result['fig11'] = fig11\n",
    "result['Kideal'] = Kideal\n",
    "################################"
   ]
  },
  {
   "cell_type": "markdown",
   "id": "9a3546c8",
   "metadata": {},
   "source": [
    "---\n",
    "## Do not modify below this"
   ]
  },
  {
   "cell_type": "code",
   "execution_count": null,
   "id": "071c6e74",
   "metadata": {},
   "outputs": [],
   "source": [
    "with open('{}.pickle'.format(result['group']),'wb') as file:\n",
    "    pickle.dump(result,file)"
   ]
  }
 ],
 "metadata": {
  "kernelspec": {
   "display_name": "Python 3 (ipykernel)",
   "language": "python",
   "name": "python3"
  },
  "language_info": {
   "codemirror_mode": {
    "name": "ipython",
    "version": 3
   },
   "file_extension": ".py",
   "mimetype": "text/x-python",
   "name": "python",
   "nbconvert_exporter": "python",
   "pygments_lexer": "ipython3",
   "version": "3.9.9"
  }
 },
 "nbformat": 4,
 "nbformat_minor": 5
}
