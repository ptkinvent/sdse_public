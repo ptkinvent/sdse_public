{
 "cells": [
  {
   "cell_type": "markdown",
   "id": "8d1d6992",
   "metadata": {
    "id": "8d1d6992"
   },
   "source": [
    "---\n",
    "\n",
    "<h1><center>SDSE Lab 3 <br><br> K-means clustering </center></h1>\n",
    "\n",
    "---"
   ]
  },
  {
   "cell_type": "code",
   "execution_count": 2,
   "id": "d8a1b20a",
   "metadata": {
    "executionInfo": {
     "elapsed": 182,
     "status": "ok",
     "timestamp": 1645842233018,
     "user": {
      "displayName": "Jolan von Plutzner",
      "photoUrl": "https://lh3.googleusercontent.com/a/default-user=s64",
      "userId": "12417701507063624404"
     },
     "user_tz": 480
    },
    "id": "d8a1b20a"
   },
   "outputs": [],
   "source": [
    "result = {\n",
    "    'group' : 23, # enter your group number here\n",
    "    'SIDs': [3036429331, 3031851018, 3037390290] # enter the SIDs for the group members\n",
    "}"
   ]
  },
  {
   "cell_type": "code",
   "execution_count": 3,
   "id": "ffe6bff8",
   "metadata": {
    "executionInfo": {
     "elapsed": 3,
     "status": "ok",
     "timestamp": 1645842233137,
     "user": {
      "displayName": "Jolan von Plutzner",
      "photoUrl": "https://lh3.googleusercontent.com/a/default-user=s64",
      "userId": "12417701507063624404"
     },
     "user_tz": 480
    },
    "id": "ffe6bff8"
   },
   "outputs": [],
   "source": [
    "import numpy as np\n",
    "import matplotlib.pyplot as plt\n",
    "import pickle\n",
    "import scipy.stats as stats"
   ]
  },
  {
   "cell_type": "markdown",
   "id": "249c15f9",
   "metadata": {
    "id": "249c15f9"
   },
   "source": [
    "# 1) Load the data\n",
    "Use `pickle.load` to load `data2d.pickle`. This file contains a single matrix called `X`. Use variables `N` and `D` for the number of rows (samples) and columns (features) respectively. (2 pts)"
   ]
  },
  {
   "cell_type": "code",
   "execution_count": 4,
   "id": "e91d1404",
   "metadata": {
    "executionInfo": {
     "elapsed": 126,
     "status": "ok",
     "timestamp": 1645842233261,
     "user": {
      "displayName": "Jolan von Plutzner",
      "photoUrl": "https://lh3.googleusercontent.com/a/default-user=s64",
      "userId": "12417701507063624404"
     },
     "user_tz": 480
    },
    "id": "e91d1404"
   },
   "outputs": [],
   "source": [
    "with open('data2d.pickle','rb') as file:\n",
    "    X = pickle.load(file)\n",
    "    \n",
    "N = X.shape[0]\n",
    "D = X.shape[1]"
   ]
  },
  {
   "cell_type": "code",
   "execution_count": 5,
   "id": "fc142c5b",
   "metadata": {
    "executionInfo": {
     "elapsed": 4,
     "status": "ok",
     "timestamp": 1645842233261,
     "user": {
      "displayName": "Jolan von Plutzner",
      "photoUrl": "https://lh3.googleusercontent.com/a/default-user=s64",
      "userId": "12417701507063624404"
     },
     "user_tz": 480
    },
    "id": "fc142c5b"
   },
   "outputs": [],
   "source": [
    "################################\n",
    "# Reporting. Do not modify.#####\n",
    "result['N'] = N\n",
    "result['D'] = D\n",
    "################################"
   ]
  },
  {
   "cell_type": "markdown",
   "id": "2bc52794",
   "metadata": {
    "id": "2bc52794"
   },
   "source": [
    "# 2) Scatter plot\n",
    "Create a scatter plot with the first column along the x-axis and the second column along the y-axis. Use `plt.axis('equal')` to force the two axes to have the same scale. This is important for correct visualization of the Euclidean distances between points. Save your figure handle to `fig2`. (2 pts)"
   ]
  },
  {
   "cell_type": "code",
   "execution_count": 6,
   "id": "f0537ad4",
   "metadata": {
    "colab": {
     "base_uri": "https://localhost:8080/",
     "height": 391
    },
    "executionInfo": {
     "elapsed": 363,
     "status": "ok",
     "timestamp": 1645842233620,
     "user": {
      "displayName": "Jolan von Plutzner",
      "photoUrl": "https://lh3.googleusercontent.com/a/default-user=s64",
      "userId": "12417701507063624404"
     },
     "user_tz": 480
    },
    "id": "f0537ad4",
    "outputId": "01df1b29-8917-4543-cb67-a0ab9e81a57b"
   },
   "outputs": [
    {
     "data": {
      "text/plain": [
       "(-11.849664686869328,\n",
       " 1.873188199333136,\n",
       " -6.398006044898596,\n",
       " 10.829062019026559)"
      ]
     },
     "execution_count": 6,
     "metadata": {},
     "output_type": "execute_result"
    },
    {
     "data": {
      "image/png": "[encoded data removed]",
      "text/plain": [
       "<Figure size 360x360 with 1 Axes>"
      ]
     },
     "metadata": {
      "needs_background": "light"
     },
     "output_type": "display_data"
    }
   ],
   "source": [
    "fig2 = plt.figure(figsize=(5,5))\n",
    "plt.scatter(X[:,0], X[:,1])\n",
    "plt.axis('equal')"
   ]
  },
  {
   "cell_type": "code",
   "execution_count": 7,
   "id": "04d930f8",
   "metadata": {
    "executionInfo": {
     "elapsed": 9,
     "status": "ok",
     "timestamp": 1645842233620,
     "user": {
      "displayName": "Jolan von Plutzner",
      "photoUrl": "https://lh3.googleusercontent.com/a/default-user=s64",
      "userId": "12417701507063624404"
     },
     "user_tz": 480
    },
    "id": "04d930f8"
   },
   "outputs": [],
   "source": [
    "################################\n",
    "# Reporting. Do not modify.#####\n",
    "result['fig2'] = fig2\n",
    "################################"
   ]
  },
  {
   "cell_type": "markdown",
   "id": "bc5f0929",
   "metadata": {
    "id": "bc5f0929"
   },
   "source": [
    "# 3) Initialize centroids\n",
    "Complete the function below that takes the number of centroids `K` and the data matrix `X` and returns `K` randomly placed centroids. The centroids should be selected according to a uniform distribution that spans a box fitted to the data. The return value should be a numpy array with shape `(K,D)` where `D` is the number of columns in X. Make sure this function  works for for values of `D` other than 2. (6 pts)"
   ]
  },
  {
   "cell_type": "code",
   "execution_count": 8,
   "id": "9dd2eac2",
   "metadata": {
    "executionInfo": {
     "elapsed": 9,
     "status": "ok",
     "timestamp": 1645842233621,
     "user": {
      "displayName": "Jolan von Plutzner",
      "photoUrl": "https://lh3.googleusercontent.com/a/default-user=s64",
      "userId": "12417701507063624404"
     },
     "user_tz": 480
    },
    "id": "9dd2eac2"
   },
   "outputs": [],
   "source": [
    "def initialize_centroids(K, X):\n",
    "    D = X.shape[1]\n",
    "    result = np.empty([K,D])\n",
    "\n",
    "    for d in range(D):\n",
    "        x = X[:,d]\n",
    "        max_x = x.max()\n",
    "        min_x = x.min()\n",
    "        result[:,d] = np.random.uniform(min_x, max_x, K)\n",
    "\n",
    "    return result"
   ]
  },
  {
   "cell_type": "code",
   "execution_count": 9,
   "id": "490b9fa7",
   "metadata": {
    "executionInfo": {
     "elapsed": 9,
     "status": "ok",
     "timestamp": 1645842233621,
     "user": {
      "displayName": "Jolan von Plutzner",
      "photoUrl": "https://lh3.googleusercontent.com/a/default-user=s64",
      "userId": "12417701507063624404"
     },
     "user_tz": 480
    },
    "id": "490b9fa7"
   },
   "outputs": [],
   "source": [
    "################################\n",
    "# Reporting. Do not modify.#####\n",
    "result['C3'] = initialize_centroids(3,X)\n",
    "################################"
   ]
  },
  {
   "cell_type": "markdown",
   "id": "7d16f873",
   "metadata": {
    "id": "7d16f873"
   },
   "source": [
    "# 4) Compute the assignment for given centroids\n",
    "Complete the function below that takes the data matrix and centroid locations, and returns an assignment matrix `r`. `r` should be a numpy array with shape `(N,K)`. Each row of `r` should contain `K-1` `False` values and one `True` value in the position corresponding to the centroid that is nearest to that data point (Euclidean distance). (6 pts)"
   ]
  },
  {
   "cell_type": "code",
   "execution_count": 10,
   "id": "318725fc",
   "metadata": {
    "executionInfo": {
     "elapsed": 8,
     "status": "ok",
     "timestamp": 1645842233621,
     "user": {
      "displayName": "Jolan von Plutzner",
      "photoUrl": "https://lh3.googleusercontent.com/a/default-user=s64",
      "userId": "12417701507063624404"
     },
     "user_tz": 480
    },
    "id": "318725fc"
   },
   "outputs": [],
   "source": [
    "def assign_samples_to_nearest_centroid(X,C):\n",
    "    N = X.shape[0]\n",
    "    K = C.shape[0]\n",
    "    r = np.zeros((N,K))==True\n",
    "    \n",
    "    for p in range(N):\n",
    "        point = X[p]\n",
    "        centroid_distances = []\n",
    "        for centroid in C:\n",
    "            centroid_distance = np.linalg.norm(point - centroid)\n",
    "            centroid_distances.append(centroid_distance)\n",
    "        centroid_distances = np.array(centroid_distances)\n",
    "        index_closest_centroid = centroid_distances.argmin()\n",
    "        r[p][index_closest_centroid] = True\n",
    "\n",
    "    for column in range(K):\n",
    "        if not np.any(r[:,column]):\n",
    "            return None\n",
    "        \n",
    "    return r\n",
    "\n",
    "  "
   ]
  },
  {
   "cell_type": "code",
   "execution_count": 11,
   "id": "3a680ce9",
   "metadata": {
    "executionInfo": {
     "elapsed": 8,
     "status": "ok",
     "timestamp": 1645842233621,
     "user": {
      "displayName": "Jolan von Plutzner",
      "photoUrl": "https://lh3.googleusercontent.com/a/default-user=s64",
      "userId": "12417701507063624404"
     },
     "user_tz": 480
    },
    "id": "3a680ce9"
   },
   "outputs": [],
   "source": [
    "################################\n",
    "# Reporting. Do not modify.#####\n",
    "result['r4'] = assign_samples_to_nearest_centroid(X,result['C3'])\n",
    "################################"
   ]
  },
  {
   "cell_type": "code",
   "execution_count": 12,
   "id": "7jKKUi9JQRoY",
   "metadata": {
    "colab": {
     "base_uri": "https://localhost:8080/"
    },
    "executionInfo": {
     "elapsed": 9,
     "status": "ok",
     "timestamp": 1645842233622,
     "user": {
      "displayName": "Jolan von Plutzner",
      "photoUrl": "https://lh3.googleusercontent.com/a/default-user=s64",
      "userId": "12417701507063624404"
     },
     "user_tz": 480
    },
    "id": "7jKKUi9JQRoY",
    "outputId": "d275c6b7-1dea-43ed-b00e-9f31d2761eec"
   },
   "outputs": [
    {
     "data": {
      "text/plain": [
       "array([1, 3, 5])"
      ]
     },
     "execution_count": 12,
     "metadata": {},
     "output_type": "execute_result"
    }
   ],
   "source": [
    "data = np.array([1, 2, 3, 4, 5])\n",
    "mask = [True, False, True, False, True]\n",
    "data[mask]"
   ]
  },
  {
   "cell_type": "markdown",
   "id": "be32df09",
   "metadata": {
    "id": "be32df09"
   },
   "source": [
    "# 5) Plot data, centroids, assignment\n",
    "Complete the function below that takes the data matrix, a set of centroids, and an assignment matrix and creates a scatter plot similar to the one shown here. The centroids should be indicated with a large dot, and the data samples should be color-coded according to their cluster membership. Your plot may not be identical to this one due to the random placement of the centroids. (6 pts)\n",
    "\n",
    "![image.png](attachment:image.png)"
   ]
  },
  {
   "cell_type": "code",
   "execution_count": 13,
   "id": "ee58631f",
   "metadata": {
    "executionInfo": {
     "elapsed": 193,
     "status": "ok",
     "timestamp": 1645842233807,
     "user": {
      "displayName": "Jolan von Plutzner",
      "photoUrl": "https://lh3.googleusercontent.com/a/default-user=s64",
      "userId": "12417701507063624404"
     },
     "user_tz": 480
    },
    "id": "ee58631f"
   },
   "outputs": [],
   "source": [
    "def plot_scatter(X, C, r):\n",
    "    K = r.shape[1]\n",
    "    N = X.shape[0]\n",
    "    fig = plt.figure(figsize=(5,5))\n",
    "    \n",
    "    for k in range(K):\n",
    "        assignment = r[:,k]\n",
    "        points_first_cluster = X[assignment]\n",
    "        plt.scatter(points_first_cluster[:,0], points_first_cluster[:,1])\n",
    "    \n",
    "    plt.plot(C[:,0], C[:,1], 'ro', markersize = 8)\n",
    "    plt.axis('equal')\n",
    "    return fig"
   ]
  },
  {
   "cell_type": "code",
   "execution_count": 14,
   "id": "2d63a996",
   "metadata": {
    "colab": {
     "base_uri": "https://localhost:8080/",
     "height": 320
    },
    "executionInfo": {
     "elapsed": 457,
     "status": "ok",
     "timestamp": 1645842234261,
     "user": {
      "displayName": "Jolan von Plutzner",
      "photoUrl": "https://lh3.googleusercontent.com/a/default-user=s64",
      "userId": "12417701507063624404"
     },
     "user_tz": 480
    },
    "id": "2d63a996",
    "outputId": "efdf1021-766d-49e1-c11e-1a9c83f81327"
   },
   "outputs": [
    {
     "data": {
      "image/png": "[encoded data removed]",
      "text/plain": [
       "<Figure size 360x360 with 1 Axes>"
      ]
     },
     "metadata": {
      "needs_background": "light"
     },
     "output_type": "display_data"
    }
   ],
   "source": [
    "################################\n",
    "# Reporting. Do not modify.#####\n",
    "result['fig5'] = plot_scatter(X, result['C3'], result['r4'])\n",
    "################################"
   ]
  },
  {
   "cell_type": "markdown",
   "id": "bed3c565",
   "metadata": {
    "id": "bed3c565"
   },
   "source": [
    "# 6) Compute the centroids for a given assignment\n",
    "Complete the function below that takes the assignment and the data matrix and returns centroids placed at the mean of each cluster. The return value should be a numpy array with shape `(K,D)`. (6 pts)"
   ]
  },
  {
   "cell_type": "code",
   "execution_count": 15,
   "id": "fe53f2f7",
   "metadata": {
    "executionInfo": {
     "elapsed": 9,
     "status": "ok",
     "timestamp": 1645842234262,
     "user": {
      "displayName": "Jolan von Plutzner",
      "photoUrl": "https://lh3.googleusercontent.com/a/default-user=s64",
      "userId": "12417701507063624404"
     },
     "user_tz": 480
    },
    "id": "fe53f2f7"
   },
   "outputs": [],
   "source": [
    "def place_centroids(r, X):\n",
    "    K = r.shape[1]\n",
    "    D = X.shape[1]\n",
    "    C = np.empty((K,D))\n",
    "    \n",
    "    for c in range(K):\n",
    "        cluster_mask = r[:,c]\n",
    "        cluster_points = X[cluster_mask]\n",
    "        cluster_centroid = np.mean(cluster_points, axis=0)\n",
    "        C[c,:] = cluster_centroid\n",
    "    return C\n"
   ]
  },
  {
   "cell_type": "code",
   "execution_count": 16,
   "id": "8f94b5fd",
   "metadata": {
    "executionInfo": {
     "elapsed": 9,
     "status": "ok",
     "timestamp": 1645842234262,
     "user": {
      "displayName": "Jolan von Plutzner",
      "photoUrl": "https://lh3.googleusercontent.com/a/default-user=s64",
      "userId": "12417701507063624404"
     },
     "user_tz": 480
    },
    "id": "8f94b5fd"
   },
   "outputs": [],
   "source": [
    "################################\n",
    "# Reporting. Do not modify.#####\n",
    "result['C6'] = place_centroids(result['r4'], X)\n",
    "################################"
   ]
  },
  {
   "cell_type": "markdown",
   "id": "2fe85937",
   "metadata": {
    "id": "2fe85937"
   },
   "source": [
    "# 7) Code simple k-means\n",
    "Now we will use some of the functions we've developed to code the full k-means algorithm. \n",
    "\n",
    "Most of the algorithm is done for you in terms of the functions you've already written. Your task is only to implement the stopping criterion, which is to stop as soon as the assignment `r` does not change from one iteration to the next (4 pts)."
   ]
  },
  {
   "cell_type": "code",
   "execution_count": 17,
   "id": "8bba0755",
   "metadata": {
    "executionInfo": {
     "elapsed": 8,
     "status": "ok",
     "timestamp": 1645842234262,
     "user": {
      "displayName": "Jolan von Plutzner",
      "photoUrl": "https://lh3.googleusercontent.com/a/default-user=s64",
      "userId": "12417701507063624404"
     },
     "user_tz": 480
    },
    "id": "8bba0755"
   },
   "outputs": [],
   "source": [
    "def run_kmeans(X,C):\n",
    "\n",
    "    done = False\n",
    "    first = True\n",
    "    rold = None\n",
    "\n",
    "    while not done:\n",
    "        r = assign_samples_to_nearest_centroid(X,C)\n",
    "        if r is None: \n",
    "            return None, None\n",
    "        C = place_centroids(r, X)\n",
    "\n",
    "        if rold is not None and np.all(r == rold): \n",
    "            break\n",
    "            \n",
    "        rold = r\n",
    "        first = False\n",
    "\n",
    "    return C, r"
   ]
  },
  {
   "cell_type": "code",
   "execution_count": 18,
   "id": "09b8ffc8",
   "metadata": {
    "executionInfo": {
     "elapsed": 9,
     "status": "ok",
     "timestamp": 1645842234263,
     "user": {
      "displayName": "Jolan von Plutzner",
      "photoUrl": "https://lh3.googleusercontent.com/a/default-user=s64",
      "userId": "12417701507063624404"
     },
     "user_tz": 480
    },
    "id": "09b8ffc8"
   },
   "outputs": [],
   "source": [
    "################################\n",
    "# Reporting. Do not modify.#####\n",
    "result['kmeans7'] = run_kmeans(X,result['C3'])\n",
    "################################"
   ]
  },
  {
   "cell_type": "markdown",
   "id": "6d3b6abb",
   "metadata": {
    "id": "6d3b6abb"
   },
   "source": [
    "# 8) Evaluate the cost function \n",
    "Complete the function below that evaluates the intertia for a given data matrix, centroid placement, and assignment matrix. The result is a scalar value. (6 pts)"
   ]
  },
  {
   "cell_type": "code",
   "execution_count": 19,
   "id": "8e90e43e",
   "metadata": {
    "executionInfo": {
     "elapsed": 8,
     "status": "ok",
     "timestamp": 1645842234263,
     "user": {
      "displayName": "Jolan von Plutzner",
      "photoUrl": "https://lh3.googleusercontent.com/a/default-user=s64",
      "userId": "12417701507063624404"
     },
     "user_tz": 480
    },
    "id": "8e90e43e"
   },
   "outputs": [],
   "source": [
    "def eval_cost(X,C,r):\n",
    "    K = r.shape[1]\n",
    "    N = X.shape[0]\n",
    "    cost = 0\n",
    "\n",
    "    for p in range(N):\n",
    "        point = X[p]\n",
    "        centroid_mask = r[p,:]\n",
    "        centroid = C[centroid_mask]\n",
    "        centroid_distance = np.linalg.norm(point - centroid)\n",
    "        cost = cost + centroid_distance \n",
    "    return cost"
   ]
  },
  {
   "cell_type": "code",
   "execution_count": 20,
   "id": "fdcb797f",
   "metadata": {
    "executionInfo": {
     "elapsed": 8,
     "status": "ok",
     "timestamp": 1645842234263,
     "user": {
      "displayName": "Jolan von Plutzner",
      "photoUrl": "https://lh3.googleusercontent.com/a/default-user=s64",
      "userId": "12417701507063624404"
     },
     "user_tz": 480
    },
    "id": "fdcb797f"
   },
   "outputs": [],
   "source": [
    "################################\n",
    "# Reporting. Do not modify.#####\n",
    "result['cost8'] = eval_cost(X,result['C3'],result['r4'])\n",
    "################################"
   ]
  },
  {
   "cell_type": "markdown",
   "id": "4ad7dc0f",
   "metadata": {
    "id": "4ad7dc0f"
   },
   "source": [
    "# 9) Ensemble run\n",
    "Complete the function below that runs kmeans `ensemblesize` times, each with a different initial centroid placement. These initial placements should be chosen with `initialize_centroids(K,X)`. The function should return the single run with the lowest cost. Results should be returned in a **dictionary** with keys `('C','r','cost')`. `C` are the best centroids, `r` is the best assignment, and `cost` is the corresponding cost. (6 pts)"
   ]
  },
  {
   "cell_type": "code",
   "execution_count": 21,
   "id": "af323e60",
   "metadata": {
    "executionInfo": {
     "elapsed": 9,
     "status": "ok",
     "timestamp": 1645842234264,
     "user": {
      "displayName": "Jolan von Plutzner",
      "photoUrl": "https://lh3.googleusercontent.com/a/default-user=s64",
      "userId": "12417701507063624404"
     },
     "user_tz": 480
    },
    "id": "af323e60"
   },
   "outputs": [],
   "source": [
    "def ensemble_run(K,X,ensemblesize):\n",
    "    best_run = {'C':None,'r':None,'cost':None}\n",
    "    for e in range(ensemblesize):\n",
    "        C = initialize_centroids(K,X)\n",
    "        C, r = run_kmeans(X,C)\n",
    "        if r is None:\n",
    "            cost = 1e6\n",
    "        else:\n",
    "            cost = eval_cost(X,C,r)\n",
    "        if  best_run['cost'] is None or cost < best_run['cost']:\n",
    "          best_run['cost'] = cost\n",
    "          best_run['C'] = C\n",
    "          best_run['r'] = r\n",
    "  \n",
    "    return best_run"
   ]
  },
  {
   "cell_type": "code",
   "execution_count": 22,
   "id": "561898e3",
   "metadata": {
    "executionInfo": {
     "elapsed": 1461,
     "status": "ok",
     "timestamp": 1645842235869,
     "user": {
      "displayName": "Jolan von Plutzner",
      "photoUrl": "https://lh3.googleusercontent.com/a/default-user=s64",
      "userId": "12417701507063624404"
     },
     "user_tz": 480
    },
    "id": "561898e3"
   },
   "outputs": [],
   "source": [
    "################################\n",
    "# Reporting. Do not modify.#####\n",
    "result['ens9'] = ensemble_run(3,X,100)\n",
    "################################"
   ]
  },
  {
   "cell_type": "markdown",
   "id": "61d67976",
   "metadata": {
    "id": "61d67976"
   },
   "source": [
    "# 10) Iteration over K\n",
    "Complete the function below that takes the data matrix, a sample size, and a maximum number of clusters to consider (`maxK`).  The function should run `ensemble_run` for all values of `K` from 1 to `maxK`. It should return a numpy array of length `maxK-1` with the best case cost for each value of `K`. (6 pts)"
   ]
  },
  {
   "cell_type": "code",
   "execution_count": 23,
   "id": "afc7024c",
   "metadata": {
    "executionInfo": {
     "elapsed": 5,
     "status": "ok",
     "timestamp": 1645842235869,
     "user": {
      "displayName": "Jolan von Plutzner",
      "photoUrl": "https://lh3.googleusercontent.com/a/default-user=s64",
      "userId": "12417701507063624404"
     },
     "user_tz": 480
    },
    "id": "afc7024c"
   },
   "outputs": [],
   "source": [
    "def K_iteration(X, ensemblesize, maxK=10):\n",
    "    allK = list(range(1,maxK))\n",
    "    best_cost = np.empty(len(allK))\n",
    "    for k in allK:\n",
    "        best_run = ensemble_run(k, X, ensemblesize)\n",
    "        best_cost[k-1] = best_run['cost']\n",
    "\n",
    "    print(best_cost)\n",
    "    return best_cost"
   ]
  },
  {
   "cell_type": "markdown",
   "id": "46bdd5ca",
   "metadata": {
    "id": "46bdd5ca"
   },
   "source": [
    "# 11) Selecting K\n",
    "\n",
    "We now run `K_iteration` with `ensemblesize=200`, `maxK=10` and plot the result. The plot shows the percent improvement of each `K` over `K-1`. From this plot, choose an ideal value for `K` and report it in the results dictionary as `Kideal`. (4 pts)"
   ]
  },
  {
   "cell_type": "code",
   "execution_count": 24,
   "id": "2ea62719",
   "metadata": {
    "colab": {
     "base_uri": "https://localhost:8080/",
     "height": 460
    },
    "executionInfo": {
     "elapsed": 5005,
     "status": "error",
     "timestamp": 1645842240870,
     "user": {
      "displayName": "Jolan von Plutzner",
      "photoUrl": "https://lh3.googleusercontent.com/a/default-user=s64",
      "userId": "12417701507063624404"
     },
     "user_tz": 480
    },
    "id": "2ea62719",
    "outputId": "ec8b05f3-ff30-42ab-dc83-105c5c424aa6"
   },
   "outputs": [
    {
     "name": "stdout",
     "output_type": "stream",
     "text": [
      "[506.71219079 292.51862409 217.91432832 143.21725777 131.33723517\n",
      " 122.33118903 114.22434361 105.05986055  99.13109038]\n"
     ]
    },
    {
     "data": {
      "text/plain": [
       "<function matplotlib.pyplot.show(close=None, block=None)>"
      ]
     },
     "execution_count": 24,
     "metadata": {},
     "output_type": "execute_result"
    },
    {
     "data": {
      "image/png": "[encoded data removed]",
      "text/plain": [
       "<Figure size 576x360 with 1 Axes>"
      ]
     },
     "metadata": {
      "needs_background": "light"
     },
     "output_type": "display_data"
    }
   ],
   "source": [
    "ensemblesize = 200\n",
    "maxK=10\n",
    "best_cost = K_iteration(X, ensemblesize, maxK)\n",
    "\n",
    "fig11 = plt.figure(figsize=(8,5))\n",
    "allK = list(range(1,maxK))\n",
    "plt.plot(allK[1:],100*np.abs(np.diff(best_cost)) / best_cost[1:],\n",
    "         linewidth=3,\n",
    "         marker='o',\n",
    "         markersize=8)\n",
    "plt.grid()\n",
    "plt.xticks(fontsize=16)\n",
    "plt.yticks(fontsize=16)\n",
    "plt.show"
   ]
  },
  {
   "cell_type": "code",
   "execution_count": 25,
   "id": "cb3be597",
   "metadata": {
    "executionInfo": {
     "elapsed": 9,
     "status": "aborted",
     "timestamp": 1645842240868,
     "user": {
      "displayName": "Jolan von Plutzner",
      "photoUrl": "https://lh3.googleusercontent.com/a/default-user=s64",
      "userId": "12417701507063624404"
     },
     "user_tz": 480
    },
    "id": "cb3be597"
   },
   "outputs": [],
   "source": [
    "# REPLACE THE None WITH YOUR Kideal VALUE.\n",
    "\n",
    "Kideal = 3"
   ]
  },
  {
   "cell_type": "code",
   "execution_count": 26,
   "id": "fca282c2",
   "metadata": {
    "executionInfo": {
     "elapsed": 9,
     "status": "aborted",
     "timestamp": 1645842240868,
     "user": {
      "displayName": "Jolan von Plutzner",
      "photoUrl": "https://lh3.googleusercontent.com/a/default-user=s64",
      "userId": "12417701507063624404"
     },
     "user_tz": 480
    },
    "id": "fca282c2"
   },
   "outputs": [],
   "source": [
    "################################\n",
    "# Reporting. Do not modify.#####\n",
    "result['fig11'] = fig11\n",
    "result['Kideal'] = Kideal\n",
    "################################"
   ]
  },
  {
   "cell_type": "markdown",
   "id": "9a3546c8",
   "metadata": {
    "id": "9a3546c8"
   },
   "source": [
    "---\n",
    "## Do not modify below this"
   ]
  },
  {
   "cell_type": "code",
   "execution_count": 27,
   "id": "071c6e74",
   "metadata": {
    "executionInfo": {
     "elapsed": 10,
     "status": "aborted",
     "timestamp": 1645842240869,
     "user": {
      "displayName": "Jolan von Plutzner",
      "photoUrl": "https://lh3.googleusercontent.com/a/default-user=s64",
      "userId": "12417701507063624404"
     },
     "user_tz": 480
    },
    "id": "071c6e74"
   },
   "outputs": [],
   "source": [
    "with open('{}.pickle'.format(result['group']),'wb') as file:\n",
    "    pickle.dump(result,file)"
   ]
  }
 ],
 "metadata": {
  "colab": {
   "collapsed_sections": [],
   "name": "lab3_handout.ipynb",
   "provenance": [
    {
     "file_id": "https://github.com/ggomes/sdse_public/blob/main/lab3/lab3_handout.ipynb",
     "timestamp": 1645559434377
    }
   ]
  },
  "kernelspec": {
   "display_name": "Python 3 (ipykernel)",
   "language": "python",
   "name": "python3"
  },
  "language_info": {
   "codemirror_mode": {
    "name": "ipython",
    "version": 3
   },
   "file_extension": ".py",
   "mimetype": "text/x-python",
   "name": "python",
   "nbconvert_exporter": "python",
   "pygments_lexer": "ipython3",
   "version": "3.9.9"
  }
 },
 "nbformat": 4,
 "nbformat_minor": 5
}
