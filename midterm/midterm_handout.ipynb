{
 "cells": [
  {
   "cell_type": "markdown",
   "id": "c9fb8a6b",
   "metadata": {},
   "source": [
    "---\n",
    "\n",
    "<h1><center>SDSE Midterm <br><br> Helper notebook </center></h1>\n",
    "\n",
    "<h2><center><font color='green'>NOTE: Do not submit this file.</center></refontd></h2>\n",
    "\n",
    "---"
   ]
  },
  {
   "cell_type": "code",
   "execution_count": null,
   "id": "91e277a9",
   "metadata": {},
   "outputs": [],
   "source": [
    "import numpy as np \n",
    "import scipy.stats as stats"
   ]
  },
  {
   "cell_type": "markdown",
   "id": "3e600213",
   "metadata": {},
   "source": [
    "# Problem 2"
   ]
  },
  {
   "cell_type": "code",
   "execution_count": null,
   "id": "1780de98",
   "metadata": {},
   "outputs": [],
   "source": [
    "nA = 16\n",
    "muA = 16.0\n",
    "sigmaA = 2.0\n",
    "\n",
    "nB = 21\n",
    "muB = 8.3\n",
    "sigmaB = 1.2\n",
    "\n",
    "nC = 3\n",
    "muC = 85.0\n",
    "sigmaC = 10.6"
   ]
  },
  {
   "cell_type": "code",
   "execution_count": null,
   "id": "0d2c005d",
   "metadata": {},
   "outputs": [],
   "source": []
  },
  {
   "cell_type": "markdown",
   "id": "1db0d77f",
   "metadata": {},
   "source": [
    "# Problem 3"
   ]
  },
  {
   "cell_type": "code",
   "execution_count": null,
   "id": "e7b34e59",
   "metadata": {},
   "outputs": [],
   "source": []
  },
  {
   "cell_type": "markdown",
   "id": "f71b0a47",
   "metadata": {},
   "source": [
    "# Problem 4"
   ]
  },
  {
   "cell_type": "code",
   "execution_count": null,
   "id": "e7f7c01a",
   "metadata": {},
   "outputs": [],
   "source": [
    "x = np.array([ 159.42, 157.44, 162.85, 151.82,\n",
    "               144.66, 143.49, 162.21, 152.25,\n",
    "               140.85, 169.35, 153.14, 152.05,\n",
    "               154.19, 173.65, 127.03, 147.25,\n",
    "               143.04, 142.13, 150.06, 148.65,\n",
    "               141.44, 156.55, 153.28, 150.90,\n",
    "               149.92, 145.05, 156.10, 164.66,\n",
    "               152.58, 178.23, 164.45, 139.70 ])"
   ]
  },
  {
   "cell_type": "code",
   "execution_count": null,
   "id": "8b3281f6",
   "metadata": {},
   "outputs": [],
   "source": []
  },
  {
   "cell_type": "markdown",
   "id": "94ac9fe2",
   "metadata": {},
   "source": [
    "# Problem 5"
   ]
  },
  {
   "cell_type": "code",
   "execution_count": null,
   "id": "31d3e3c2",
   "metadata": {},
   "outputs": [],
   "source": [
    "x = np.array([231.45, 231.62, 230.08, 233.47, 230.75])"
   ]
  },
  {
   "cell_type": "code",
   "execution_count": null,
   "id": "e2140675",
   "metadata": {},
   "outputs": [],
   "source": []
  }
 ],
 "metadata": {
  "kernelspec": {
   "display_name": "Python 3.9.9 ('sdse')",
   "language": "python",
   "name": "python399jvsc74a57bd03b8b5ce4b1bd0cdb09a48c826d4154f25cb98d27fcdd75ace86cf123225b5557"
  },
  "language_info": {
   "codemirror_mode": {
    "name": "ipython",
    "version": 3
   },
   "file_extension": ".py",
   "mimetype": "text/x-python",
   "name": "python",
   "nbconvert_exporter": "python",
   "pygments_lexer": "ipython3",
   "version": "3.9.9"
  }
 },
 "nbformat": 4,
 "nbformat_minor": 5
}
