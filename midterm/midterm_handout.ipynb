{
 "cells": [
  {
   "cell_type": "markdown",
   "id": "c9fb8a6b",
   "metadata": {},
   "source": [
    "---\n",
    "\n",
    "<h1><center>SDSE Midterm <br><br> Helper notebook </center></h1>\n",
    "\n",
    "<h2><center><font color='green'>NOTE: Do not submit this file.</center></refontd></h2>\n",
    "\n",
    "---"
   ]
  },
  {
   "cell_type": "code",
   "execution_count": null,
   "id": "91e277a9",
   "metadata": {},
   "outputs": [],
   "source": [
    "import numpy as np \n",
    "import scipy.stats as stats\n",
    "import matplotlib.pyplot as plt\n",
    "from math import sqrt"
   ]
  },
  {
   "cell_type": "markdown",
   "id": "3e600213",
   "metadata": {},
   "source": [
    "# Problem 2"
   ]
  },
  {
   "cell_type": "code",
   "execution_count": null,
   "id": "1780de98",
   "metadata": {},
   "outputs": [],
   "source": [
    "nA = 16\n",
    "muA = 16.0\n",
    "sigmaA = 2.0\n",
    "\n",
    "nB = 21\n",
    "muB = 8.3\n",
    "sigmaB = 1.2\n",
    "\n",
    "nC = 3\n",
    "muC = 85.0\n",
    "sigmaC = 10.6"
   ]
  },
  {
   "cell_type": "code",
   "execution_count": null,
   "id": "0d2c005d",
   "metadata": {},
   "outputs": [],
   "source": [
    "mu = nA*muA + nB*muB + nC*muC\n",
    "sigma = sqrt(nA*sigmaA**2 + nB*sigmaB**2 + nC*sigmaC**2)\n",
    "stats.norm(mu, sigma).cdf(700)"
   ]
  },
  {
   "cell_type": "markdown",
   "id": "1db0d77f",
   "metadata": {},
   "source": [
    "# Problem 3"
   ]
  },
  {
   "cell_type": "code",
   "execution_count": null,
   "id": "e7b34e59",
   "metadata": {},
   "outputs": [],
   "source": [
    "lambdaA = 0.25\n",
    "lambdaB = 0.125\n",
    "lambdaC = 0.2\n",
    "\n",
    "XA = stats.expon(scale=1/lambdaA)\n",
    "XB = stats.expon(scale=1/lambdaB)\n",
    "XC = stats.expon(scale=1/lambdaC)\n",
    "\n",
    "print('(1)', XA.mean(), XB.mean(), XC.mean())\n",
    "\n",
    "print('(2)', XC.cdf(7))\n",
    "\n",
    "print('(3)', XA.cdf(7) * XB.cdf(7) * XC.cdf(7))\n",
    "\n",
    "print('(4)', XA.ppf(0.9))"
   ]
  },
  {
   "cell_type": "markdown",
   "id": "f71b0a47",
   "metadata": {},
   "source": [
    "# Problem 4"
   ]
  },
  {
   "cell_type": "code",
   "execution_count": null,
   "id": "e7f7c01a",
   "metadata": {},
   "outputs": [],
   "source": [
    "x = np.array([ 159.42, 157.44, 162.85, 151.82,\n",
    "               144.66, 143.49, 162.21, 152.25,\n",
    "               140.85, 169.35, 153.14, 152.05,\n",
    "               154.19, 173.65, 127.03, 147.25,\n",
    "               143.04, 142.13, 150.06, 148.65,\n",
    "               141.44, 156.55, 153.28, 150.90,\n",
    "               149.92, 145.05, 156.10, 164.66,\n",
    "               152.58, 178.23, 164.45, 139.70 ])\n",
    "N = len(x)"
   ]
  },
  {
   "cell_type": "markdown",
   "id": "2056c3c5",
   "metadata": {},
   "source": [
    "## Part 1"
   ]
  },
  {
   "cell_type": "code",
   "execution_count": null,
   "id": "8b3281f6",
   "metadata": {},
   "outputs": [],
   "source": [
    "mu = x.mean()\n",
    "var = x.var(ddof=1) / sqrt(N)\n",
    "mu, var"
   ]
  },
  {
   "cell_type": "markdown",
   "id": "a8f03621",
   "metadata": {},
   "source": [
    "## Part 2"
   ]
  },
  {
   "cell_type": "code",
   "execution_count": null,
   "id": "fd04ac6a",
   "metadata": {},
   "outputs": [],
   "source": [
    "lower_bound = stats.norm(mu, sqrt(var)).ppf(0.025)\n",
    "upper_bound = stats.norm(mu, sqrt(var)).ppf(0.975)\n",
    "lower_bound, upper_bound"
   ]
  },
  {
   "cell_type": "markdown",
   "id": "6d3a4550",
   "metadata": {},
   "source": [
    "## Part 3"
   ]
  },
  {
   "cell_type": "code",
   "execution_count": null,
   "id": "58ad5c4c",
   "metadata": {},
   "outputs": [],
   "source": [
    "lower_bound = (mu - 4.85/2)\n",
    "1 - 2*stats.norm(mu, sqrt(var)).cdf(lower_bound)"
   ]
  },
  {
   "cell_type": "markdown",
   "id": "94ac9fe2",
   "metadata": {},
   "source": [
    "# Problem 5"
   ]
  },
  {
   "cell_type": "code",
   "execution_count": null,
   "id": "31d3e3c2",
   "metadata": {},
   "outputs": [],
   "source": [
    "x = np.array([231.45, 231.62, 230.08, 233.47, 230.75])\n",
    "N = len(x)"
   ]
  },
  {
   "cell_type": "code",
   "execution_count": null,
   "id": "e2140675",
   "metadata": {},
   "outputs": [],
   "source": [
    "mu = x.mean()\n",
    "sigma = x.std(ddof=N-1)\n",
    "stats.t(mu, sigma).cdf(235)\n",
    "z = (235-mu) / (2.54/sqrt(N))\n",
    "1 - stats.norm.cdf(z)"
   ]
  },
  {
   "cell_type": "markdown",
   "id": "7473d23e",
   "metadata": {},
   "source": [
    "# Problem 6"
   ]
  },
  {
   "cell_type": "code",
   "execution_count": null,
   "id": "493520bc",
   "metadata": {},
   "outputs": [],
   "source": [
    "x = np.linspace(-5, 5, 11)\n",
    "y = x**4 - 8*x**2\n",
    "plt.plot(x, y)\n",
    "x, y"
   ]
  }
 ],
 "metadata": {
  "kernelspec": {
   "display_name": "Python 3 (ipykernel)",
   "language": "python",
   "name": "python3"
  },
  "language_info": {
   "codemirror_mode": {
    "name": "ipython",
    "version": 3
   },
   "file_extension": ".py",
   "mimetype": "text/x-python",
   "name": "python",
   "nbconvert_exporter": "python",
   "pygments_lexer": "ipython3",
   "version": "3.9.9"
  }
 },
 "nbformat": 4,
 "nbformat_minor": 5
}
