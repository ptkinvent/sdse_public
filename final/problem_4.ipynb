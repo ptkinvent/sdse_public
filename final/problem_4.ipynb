{
 "cells": [
  {
   "cell_type": "markdown",
   "id": "c9fb8a6b",
   "metadata": {
    "pycharm": {
     "name": "#%% md\n"
    }
   },
   "source": [
    "---\n",
    "\n",
    "<h1><center>SDSE Midterm <br><br> Helper notebook </center></h1>\n",
    "\n",
    "---"
   ]
  },
  {
   "cell_type": "markdown",
   "id": "f71b0a47",
   "metadata": {
    "pycharm": {
     "name": "#%% md\n"
    }
   },
   "source": [
    "# Problem 4"
   ]
  },
  {
   "cell_type": "code",
   "execution_count": null,
   "id": "b8437f65",
   "metadata": {
    "pycharm": {
     "name": "#%%\n"
    }
   },
   "outputs": [],
   "source": [
    "import dill\n",
    "from sklearn.svm import SVC\n",
    "from sklearn.linear_model import LogisticRegression\n",
    "from sklearn.model_selection import train_test_split\n",
    "from sklearn.preprocessing import StandardScaler\n",
    "from sklearn.pipeline import Pipeline\n",
    "from sklearn.metrics import accuracy_score"
   ]
  },
  {
   "cell_type": "code",
   "execution_count": null,
   "id": "85b0c36a",
   "metadata": {
    "pycharm": {
     "name": "#%%\n"
    }
   },
   "outputs": [],
   "source": [
    "with open('data.pickle','rb') as f:\n",
    "    X, y, rnd = dill.load(f)\n",
    "\n",
    "X.shape, y.shape, rnd"
   ]
  },
  {
   "cell_type": "code",
   "execution_count": null,
   "id": "4611fe69",
   "metadata": {
    "pycharm": {
     "name": "#%%\n"
    }
   },
   "outputs": [],
   "source": [
    "# 1. Use Scikitlearn to split the data into 80% training and 20% test sets.\n",
    "# Note: Set the random seed with random_state=rnd\n",
    "Xtrain, Xtest, ytrain, ytest = train_test_split(X, y, test_size=0.2, random_state=rnd)\n",
    "\n",
    "# 2. Create a pipeline with a standard scalar followed by logistic regression\n",
    "# Note: Standard scaler does not need a random seed\n",
    "# Note: Set the random seed for logistic regression with random_state=rnd\n",
    "# Note: You do not have to set any other parameters of logistic regression.\n",
    "logreg = Pipeline([\n",
    "    ('scaler', StandardScaler()),\n",
    "    ('logreg', LogisticRegression(random_state=rnd))\n",
    "])\n",
    "\n",
    "\n",
    "# 3. Create a pipeline with a standard scalar followed by a support vector classifier\n",
    "# Note: Use the radial basis function kernel for SVC (kernel='rbf')\n",
    "# Note: Set the random seed for SVC with random_state=rnd\n",
    "svc  = Pipeline([\n",
    "    ('scaler', StandardScaler()),\n",
    "    ('svc', SVC(kernel='rbf', random_state=rnd))\n",
    "])\n",
    "\n",
    "# 4. Train both models\n",
    "logreg = logreg.fit(Xtrain, ytrain)\n",
    "svc = svc.fit(Xtrain, ytrain)\n",
    "\n",
    "# 5. Make predictions for the test data using both models\n",
    "yhat_logreg = logreg.predict(Xtest)\n",
    "yhat_svc = svc.predict(Xtest)\n",
    "\n",
    "# 6. Compute and report the test accuracy for both models\n",
    "acc_logreg = accuracy_score(ytest, yhat_logreg)\n",
    "acc_svc = accuracy_score(ytest, yhat_svc)\n",
    "\n",
    "acc_logreg, acc_svc"
   ]
  }
 ],
 "metadata": {
  "kernelspec": {
   "display_name": "Python 3 (ipykernel)",
   "language": "python",
   "name": "python3"
  },
  "language_info": {
   "codemirror_mode": {
    "name": "ipython",
    "version": 3
   },
   "file_extension": ".py",
   "mimetype": "text/x-python",
   "name": "python",
   "nbconvert_exporter": "python",
   "pygments_lexer": "ipython3",
   "version": "3.9.9"
  }
 },
 "nbformat": 4,
 "nbformat_minor": 5
}
