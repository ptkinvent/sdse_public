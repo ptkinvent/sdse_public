{
 "cells": [
  {
   "cell_type": "markdown",
   "id": "454a30ec",
   "metadata": {},
   "source": [
    "---\n",
    "\n",
    "<h1><center>SDSE Homework 3 <br><br> Problem 1: Using SVD for Image Compression </center></h1>\n",
    "\n",
    "---"
   ]
  },
  {
   "cell_type": "code",
   "execution_count": 37,
   "id": "ec4f798d",
   "metadata": {},
   "outputs": [],
   "source": [
    "result = {\n",
    "    'SID': 3036429331 # enter your SID\n",
    "}"
   ]
  },
  {
   "cell_type": "code",
   "execution_count": 38,
   "id": "3121bf40",
   "metadata": {},
   "outputs": [],
   "source": [
    "from PIL import Image\n",
    "import numpy as np\n",
    "import matplotlib.pyplot as plt\n",
    "import pickle"
   ]
  },
  {
   "cell_type": "markdown",
   "id": "dcc8a9c6",
   "metadata": {},
   "source": [
    "The next cell will load the image `X` from a file and plot it using `plt.imshow`. "
   ]
  },
  {
   "cell_type": "code",
   "execution_count": 39,
   "id": "58ad739e",
   "metadata": {},
   "outputs": [
    {
     "data": {
      "text/plain": [
       "<matplotlib.image.AxesImage at 0x7fb6398bf070>"
      ]
     },
     "execution_count": 39,
     "metadata": {},
     "output_type": "execute_result"
    },
    {
     "data": {
      "image/png": "[encoded data removed]",
      "text/plain": [
       "<Figure size 432x288 with 1 Axes>"
      ]
     },
     "metadata": {
      "needs_background": "light"
     },
     "output_type": "display_data"
    }
   ],
   "source": [
    "# Load the data from a pickle file\n",
    "with open('circle_data.pickle', 'rb') as file:\n",
    "    X = pickle.load(file)   \n",
    "    \n",
    "# Display the data matrix as an image\n",
    "plt.imshow(X,cmap='gray')"
   ]
  },
  {
   "cell_type": "markdown",
   "id": "3cfa2697",
   "metadata": {},
   "source": [
    "# 1) Data dimensions\n",
    "\n",
    "Record the number of rows and columns of `X` in variables `N` and `D` respectively."
   ]
  },
  {
   "cell_type": "code",
   "execution_count": 40,
   "id": "175188c0",
   "metadata": {},
   "outputs": [],
   "source": [
    "N = X.shape[0] # Add your code here\n",
    "D = X.shape[1] # Add your code here"
   ]
  },
  {
   "cell_type": "code",
   "execution_count": 41,
   "id": "f34b9d2a",
   "metadata": {},
   "outputs": [],
   "source": [
    "################################\n",
    "# Reporting. Do not modify.#####\n",
    "result['N'] = N\n",
    "result['D'] = D\n",
    "################################"
   ]
  },
  {
   "cell_type": "markdown",
   "id": "5acef9c4",
   "metadata": {},
   "source": [
    "# 2) Run SVD\n",
    "This has already be done for you. We are using the implementation of SVD from scipy's `linalg` package. Look at the documentation for `linalg.svd` (eg run `linalg.svd?`) to understand the syntax."
   ]
  },
  {
   "cell_type": "code",
   "execution_count": 42,
   "id": "4a91baa3",
   "metadata": {},
   "outputs": [
    {
     "data": {
      "text/plain": [
       "((446, 446), (160,), (160, 160))"
      ]
     },
     "execution_count": 42,
     "metadata": {},
     "output_type": "execute_result"
    }
   ],
   "source": [
    "from scipy import linalg\n",
    "U, s, Vt = linalg.svd(X)\n",
    "U.shape, s.shape, Vt.shape"
   ]
  },
  {
   "cell_type": "markdown",
   "id": "1cd79274",
   "metadata": {},
   "source": [
    "# 3) Matrix rank\n",
    "Compute the rank of X using `np.linalg.matrix_rank`. Record it to the variable `rank`."
   ]
  },
  {
   "cell_type": "code",
   "execution_count": 43,
   "id": "2153bbcd",
   "metadata": {},
   "outputs": [],
   "source": [
    "# Add your code here\n",
    "rank = np.linalg.matrix_rank(X)"
   ]
  },
  {
   "cell_type": "code",
   "execution_count": 44,
   "id": "f9c0f678",
   "metadata": {},
   "outputs": [],
   "source": [
    "################################\n",
    "# Reporting. Do not modify.#####\n",
    "result['rank'] = rank\n",
    "################################"
   ]
  },
  {
   "cell_type": "markdown",
   "id": "38853856",
   "metadata": {},
   "source": [
    "# 4) Plot the singular values\n",
    "Use `plt.semilogy` to plot the sequence of singular values."
   ]
  },
  {
   "cell_type": "code",
   "execution_count": 45,
   "id": "92944482",
   "metadata": {},
   "outputs": [
    {
     "data": {
      "image/png": "[encoded data removed]",
      "text/plain": [
       "<Figure size 720x360 with 1 Axes>"
      ]
     },
     "metadata": {
      "needs_background": "light"
     },
     "output_type": "display_data"
    }
   ],
   "source": [
    "fig4 = plt.figure(figsize=(10,5))\n",
    "# Add your code here\n",
    "plt.semilogy(s)\n",
    "plt.ylabel('log(sigma)')\n",
    "plt.grid()"
   ]
  },
  {
   "cell_type": "code",
   "execution_count": 46,
   "id": "00e442ad",
   "metadata": {},
   "outputs": [],
   "source": [
    "################################\n",
    "# Reporting. Do not modify.#####\n",
    "result['fig4'] = fig4\n",
    "################################"
   ]
  },
  {
   "cell_type": "markdown",
   "id": "0d1ff8bc",
   "metadata": {},
   "source": [
    "# 5) Plot first 20 columns of $U \\Sigma$ using `plt.imshow`"
   ]
  },
  {
   "cell_type": "code",
   "execution_count": 47,
   "id": "e1184485",
   "metadata": {},
   "outputs": [
    {
     "data": {
      "text/plain": [
       "<matplotlib.image.AxesImage at 0x7fb63526a2b0>"
      ]
     },
     "execution_count": 47,
     "metadata": {},
     "output_type": "execute_result"
    },
    {
     "data": {
      "image/png": "[encoded data removed]",
      "text/plain": [
       "<Figure size 720x360 with 1 Axes>"
      ]
     },
     "metadata": {
      "needs_background": "light"
     },
     "output_type": "display_data"
    }
   ],
   "source": [
    "fig5 = plt.figure(figsize=(10,5))\n",
    "r = 20\n",
    "\n",
    "# Add your code here\n",
    "s_mat = np.zeros((446, 160))\n",
    "s_mat[:160, :160] = np.diag(s)\n",
    "s_mat.shape\n",
    "temp = U@s_mat\n",
    "U.shape, s_mat.shape\n",
    "plt.imshow(temp[:, :r], cmap='gray', aspect='auto', interpolation='none')"
   ]
  },
  {
   "cell_type": "code",
   "execution_count": 48,
   "id": "88356f32",
   "metadata": {},
   "outputs": [],
   "source": [
    "################################\n",
    "# Reporting. Do not modify.#####\n",
    "result['fig5'] = fig5\n",
    "################################"
   ]
  },
  {
   "cell_type": "markdown",
   "id": "f7bb304c",
   "metadata": {},
   "source": [
    "# 6) Plot first 20 rows of $\\Sigma V^T$ using `plt.imshow`"
   ]
  },
  {
   "cell_type": "code",
   "execution_count": 49,
   "id": "b885c085",
   "metadata": {},
   "outputs": [
    {
     "data": {
      "text/plain": [
       "<matplotlib.image.AxesImage at 0x7fb634ec2280>"
      ]
     },
     "execution_count": 49,
     "metadata": {},
     "output_type": "execute_result"
    },
    {
     "data": {
      "image/png": "[encoded data removed]",
      "text/plain": [
       "<Figure size 720x360 with 1 Axes>"
      ]
     },
     "metadata": {
      "needs_background": "light"
     },
     "output_type": "display_data"
    }
   ],
   "source": [
    "fig6 = plt.figure(figsize=(10,5))\n",
    "r = 20\n",
    "\n",
    "# Add your code here\n",
    "temp = s_mat@Vt\n",
    "plt.imshow(temp[:r, :], cmap='gray', aspect='auto', interpolation='none')"
   ]
  },
  {
   "cell_type": "code",
   "execution_count": 50,
   "id": "10720c75",
   "metadata": {},
   "outputs": [],
   "source": [
    "################################\n",
    "# Reporting. Do not modify.#####\n",
    "result['fig6'] = fig6\n",
    "################################"
   ]
  },
  {
   "cell_type": "markdown",
   "id": "8edaa509",
   "metadata": {},
   "source": [
    "# 7) Plot the compressed images for r=2, r=5, r=50"
   ]
  },
  {
   "cell_type": "markdown",
   "id": "374afe76",
   "metadata": {},
   "source": [
    "Plot each one with `ax[i].imshow` with `i` varying from 0 to 2, so that the images appear in a row.\n"
   ]
  },
  {
   "cell_type": "code",
   "execution_count": 51,
   "id": "0b02b385",
   "metadata": {},
   "outputs": [
    {
     "data": {
      "image/png": "[encoded data removed]",
      "text/plain": [
       "<Figure size 576x360 with 3 Axes>"
      ]
     },
     "metadata": {
      "needs_background": "light"
     },
     "output_type": "display_data"
    }
   ],
   "source": [
    "fig7, ax = plt.subplots(figsize=(8,5),nrows=1,ncols=3)\n",
    "\n",
    "# Add you code here.\n",
    "rs = [2, 5, 50]\n",
    "for i in range(len(rs)):\n",
    "    r = rs[i]\n",
    "    temp = U[:, :r] @ s_mat[:r, :r] @ Vt[:r, :]\n",
    "    ax[i].imshow(temp, cmap='gray')"
   ]
  },
  {
   "cell_type": "code",
   "execution_count": 52,
   "id": "7aa84926",
   "metadata": {},
   "outputs": [],
   "source": [
    "################################\n",
    "# Reporting. Do not modify.#####\n",
    "result['fig7'] = fig7\n",
    "################################"
   ]
  },
  {
   "cell_type": "markdown",
   "id": "5fee6506",
   "metadata": {},
   "source": [
    "# 8) Plot the percent information retained (sum of singular values) vs $r$"
   ]
  },
  {
   "cell_type": "code",
   "execution_count": 53,
   "id": "2fd061cb",
   "metadata": {},
   "outputs": [
    {
     "data": {
      "text/plain": [
       "array([1, 3, 6])"
      ]
     },
     "execution_count": 53,
     "metadata": {},
     "output_type": "execute_result"
    }
   ],
   "source": [
    "# np.cumsum(s)\n",
    "a = [1, 2, 3]\n",
    "np.cumsum(a)"
   ]
  },
  {
   "cell_type": "code",
   "execution_count": 54,
   "id": "75d1ff54",
   "metadata": {},
   "outputs": [
    {
     "data": {
      "text/plain": [
       "Text(0, 0.5, 'Variance preserved')"
      ]
     },
     "execution_count": 54,
     "metadata": {},
     "output_type": "execute_result"
    },
    {
     "data": {
      "image/png": "[encoded data removed]",
      "text/plain": [
       "<Figure size 720x360 with 1 Axes>"
      ]
     },
     "metadata": {
      "needs_background": "light"
     },
     "output_type": "display_data"
    }
   ],
   "source": [
    "fig8 = plt.figure(figsize=(10,5))\n",
    "\n",
    "# Add you code here\n",
    "x = np.linspace(1, 160, 160)\n",
    "y = np.cumsum(s) / s.sum()\n",
    "\n",
    "plt.plot(x, y)\n",
    "plt.grid()\n",
    "plt.xlabel('r')\n",
    "plt.ylabel('Variance preserved')"
   ]
  },
  {
   "cell_type": "code",
   "execution_count": 55,
   "id": "fd4f6263",
   "metadata": {},
   "outputs": [],
   "source": [
    "################################\n",
    "# Reporting. Do not modify.#####\n",
    "result['fig8'] = fig8\n",
    "################################"
   ]
  },
  {
   "cell_type": "markdown",
   "id": "efcc64a2",
   "metadata": {},
   "source": [
    "# 9) How many columns should be kept to preserve 90% of the  variance?\n",
    "Record your answer as `cols90`"
   ]
  },
  {
   "cell_type": "code",
   "execution_count": 56,
   "id": "ef4dc9fd",
   "metadata": {},
   "outputs": [
    {
     "data": {
      "text/plain": [
       "8.0"
      ]
     },
     "execution_count": 56,
     "metadata": {},
     "output_type": "execute_result"
    }
   ],
   "source": [
    "for cols, preserved_variance in zip(x, y):\n",
    "    if preserved_variance >= 0.9:\n",
    "        break\n",
    "cols90 = cols   # Add you code here\n",
    "cols90"
   ]
  },
  {
   "cell_type": "code",
   "execution_count": 57,
   "id": "7a61a5cd",
   "metadata": {},
   "outputs": [],
   "source": [
    "################################\n",
    "# Reporting. Do not modify.#####\n",
    "result['cols90'] = cols90\n",
    "################################"
   ]
  },
  {
   "cell_type": "markdown",
   "id": "0658493a",
   "metadata": {},
   "source": [
    "---\n",
    "## Do not modify below this"
   ]
  },
  {
   "cell_type": "code",
   "execution_count": 58,
   "id": "57a3b275",
   "metadata": {},
   "outputs": [],
   "source": [
    "with open('hw3_prob1_{}.pickle'.format(result['SID']),'wb') as file:\n",
    "    pickle.dump(result,file)"
   ]
  }
 ],
 "metadata": {
  "kernelspec": {
   "display_name": "Python 3 (ipykernel)",
   "language": "python",
   "name": "python3"
  },
  "language_info": {
   "codemirror_mode": {
    "name": "ipython",
    "version": 3
   },
   "file_extension": ".py",
   "mimetype": "text/x-python",
   "name": "python",
   "nbconvert_exporter": "python",
   "pygments_lexer": "ipython3",
   "version": "3.9.9"
  }
 },
 "nbformat": 4,
 "nbformat_minor": 5
}
