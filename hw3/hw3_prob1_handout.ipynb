{
 "cells": [
  {
   "cell_type": "markdown",
   "id": "454a30ec",
   "metadata": {},
   "source": [
    "---\n",
    "\n",
    "<h1><center>SDSE Homework 3 <br><br> Problem 1: Using SVD for Image Compression </center></h1>\n",
    "\n",
    "---"
   ]
  },
  {
   "cell_type": "code",
   "execution_count": 1,
   "id": "ec4f798d",
   "metadata": {},
   "outputs": [],
   "source": [
    "result = {\n",
    "    'SID': None # enter your SID\n",
    "}"
   ]
  },
  {
   "cell_type": "code",
   "execution_count": 1,
   "id": "3121bf40",
   "metadata": {},
   "outputs": [],
   "source": [
    "from PIL import Image\n",
    "import numpy as np\n",
    "import matplotlib.pyplot as plt\n",
    "import pickle"
   ]
  },
  {
   "cell_type": "markdown",
   "id": "dcc8a9c6",
   "metadata": {},
   "source": [
    "The next cell will load the image `X` from a file and plot it using `plt.imshow`. "
   ]
  },
  {
   "cell_type": "code",
   "execution_count": 2,
   "id": "58ad739e",
   "metadata": {},
   "outputs": [
    {
     "data": {
      "text/plain": [
       "<matplotlib.image.AxesImage at 0x7ff42b361700>"
      ]
     },
     "execution_count": 2,
     "metadata": {},
     "output_type": "execute_result"
    },
    {
     "data": {
      "image/png": "[encoded data removed]",
      "text/plain": [
       "<Figure size 432x288 with 1 Axes>"
      ]
     },
     "metadata": {
      "needs_background": "light"
     },
     "output_type": "display_data"
    }
   ],
   "source": [
    "# Load the data from a pickle file\n",
    "with open('circle_data.pickle', 'rb') as file:\n",
    "    X = pickle.load(file)   \n",
    "    \n",
    "# Display the data matrix as an image\n",
    "plt.imshow(X,cmap='gray')"
   ]
  },
  {
   "cell_type": "markdown",
   "id": "3cfa2697",
   "metadata": {},
   "source": [
    "# 1) Data dimensions\n",
    "\n",
    "Record the number of rows and columns of `X` in variables `N` and `D` respectively."
   ]
  },
  {
   "cell_type": "code",
   "execution_count": 28,
   "id": "175188c0",
   "metadata": {},
   "outputs": [],
   "source": [
    "N = None # Add your code here\n",
    "D = None # Add your code here"
   ]
  },
  {
   "cell_type": "code",
   "execution_count": 4,
   "id": "f34b9d2a",
   "metadata": {},
   "outputs": [],
   "source": [
    "################################\n",
    "# Reporting. Do not modify.#####\n",
    "result['N'] = N\n",
    "result['D'] = D\n",
    "################################"
   ]
  },
  {
   "cell_type": "markdown",
   "id": "5acef9c4",
   "metadata": {},
   "source": [
    "# 2) Run SVD\n",
    "This has already be done for you. We are using the implementation of SVD from scipy's `linalg` package. Look at the documentation for `linalg.svd` (eg run `linalg.svd?`) to understand the syntax."
   ]
  },
  {
   "cell_type": "code",
   "execution_count": 21,
   "id": "4a91baa3",
   "metadata": {},
   "outputs": [
    {
     "data": {
      "text/plain": [
       "((446, 446), (160,), (160, 160))"
      ]
     },
     "execution_count": 21,
     "metadata": {},
     "output_type": "execute_result"
    }
   ],
   "source": [
    "from scipy import linalg\n",
    "U, s, Vt = linalg.svd(X)\n",
    "U.shape, s.shape, Vt.shape"
   ]
  },
  {
   "cell_type": "markdown",
   "id": "1cd79274",
   "metadata": {},
   "source": [
    "# 3) Matrix rank\n",
    "Compute the rank of X using `np.linalg.matrix_rank`. Record it to the variable `rank`."
   ]
  },
  {
   "cell_type": "code",
   "execution_count": 22,
   "id": "2153bbcd",
   "metadata": {},
   "outputs": [],
   "source": [
    "# Add your code here"
   ]
  },
  {
   "cell_type": "code",
   "execution_count": 23,
   "id": "f9c0f678",
   "metadata": {},
   "outputs": [],
   "source": [
    "################################\n",
    "# Reporting. Do not modify.#####\n",
    "result['rank'] = rank\n",
    "################################"
   ]
  },
  {
   "cell_type": "markdown",
   "id": "38853856",
   "metadata": {},
   "source": [
    "# 4) Plot the singular values\n",
    "Use `plt.semilogy` to plot the sequence of singular values."
   ]
  },
  {
   "cell_type": "code",
   "execution_count": 24,
   "id": "92944482",
   "metadata": {},
   "outputs": [
    {
     "data": {
      "image/png": "[encoded data removed]",
      "text/plain": [
       "<Figure size 720x360 with 1 Axes>"
      ]
     },
     "metadata": {
      "needs_background": "light"
     },
     "output_type": "display_data"
    }
   ],
   "source": [
    "fig4 = plt.figure(figsize=(10,5))\n",
    "# Add your code here"
   ]
  },
  {
   "cell_type": "code",
   "execution_count": 25,
   "id": "00e442ad",
   "metadata": {},
   "outputs": [],
   "source": [
    "################################\n",
    "# Reporting. Do not modify.#####\n",
    "result['fig4'] = fig4\n",
    "################################"
   ]
  },
  {
   "cell_type": "markdown",
   "id": "0d1ff8bc",
   "metadata": {},
   "source": [
    "# 5) Plot first 20 columns of $U \\Sigma$ using `plt.imshow`"
   ]
  },
  {
   "cell_type": "code",
   "execution_count": 26,
   "id": "e1184485",
   "metadata": {},
   "outputs": [
    {
     "data": {
      "text/plain": [
       "<matplotlib.image.AxesImage at 0x7fba322cdbe0>"
      ]
     },
     "execution_count": 26,
     "metadata": {},
     "output_type": "execute_result"
    },
    {
     "data": {
      "image/png": "[encoded data removed]",
      "text/plain": [
       "<Figure size 720x360 with 1 Axes>"
      ]
     },
     "metadata": {
      "needs_background": "light"
     },
     "output_type": "display_data"
    }
   ],
   "source": [
    "fig5 = plt.figure(figsize=(10,5))\n",
    "r = 20\n",
    "# Add your code here"
   ]
  },
  {
   "cell_type": "code",
   "execution_count": 27,
   "id": "88356f32",
   "metadata": {},
   "outputs": [],
   "source": [
    "################################\n",
    "# Reporting. Do not modify.#####\n",
    "result['fig5'] = fig5\n",
    "################################"
   ]
  },
  {
   "cell_type": "markdown",
   "id": "f7bb304c",
   "metadata": {},
   "source": [
    "# 6) Plot first 20 rows of $\\Sigma V^T$ using `plt.imshow`"
   ]
  },
  {
   "cell_type": "code",
   "execution_count": 13,
   "id": "b885c085",
   "metadata": {},
   "outputs": [
    {
     "data": {
      "text/plain": [
       "<matplotlib.image.AxesImage at 0x7fba324cbc40>"
      ]
     },
     "execution_count": 13,
     "metadata": {},
     "output_type": "execute_result"
    },
    {
     "data": {
      "image/png": "[encoded data removed]",
      "text/plain": [
       "<Figure size 720x360 with 1 Axes>"
      ]
     },
     "metadata": {
      "needs_background": "light"
     },
     "output_type": "display_data"
    }
   ],
   "source": [
    "fig6 = plt.figure(figsize=(10,5))\n",
    "r =20\n",
    "# Add your code here"
   ]
  },
  {
   "cell_type": "code",
   "execution_count": null,
   "id": "10720c75",
   "metadata": {},
   "outputs": [],
   "source": [
    "################################\n",
    "# Reporting. Do not modify.#####\n",
    "result['fig6'] = fig6\n",
    "################################"
   ]
  },
  {
   "cell_type": "markdown",
   "id": "8edaa509",
   "metadata": {},
   "source": [
    "# 7) Plot the compressed images for r=2, r=5, r=50"
   ]
  },
  {
   "cell_type": "markdown",
   "id": "374afe76",
   "metadata": {},
   "source": [
    "Plot each one with `ax[i].imshow` with `i` varying from 0 to 2, so that the images appear in a row.\n"
   ]
  },
  {
   "cell_type": "code",
   "execution_count": 14,
   "id": "0b02b385",
   "metadata": {},
   "outputs": [
    {
     "data": {
      "text/plain": [
       "<matplotlib.image.AxesImage at 0x7fba32411fa0>"
      ]
     },
     "execution_count": 14,
     "metadata": {},
     "output_type": "execute_result"
    },
    {
     "data": {
      "image/png": "[encoded data removed]",
      "text/plain": [
       "<Figure size 576x360 with 3 Axes>"
      ]
     },
     "metadata": {
      "needs_background": "light"
     },
     "output_type": "display_data"
    }
   ],
   "source": [
    "fig7, ax = plt.subplots(figsize=(8,5),nrows=1,ncols=3)\n",
    "\n",
    "# Add you code here."
   ]
  },
  {
   "cell_type": "code",
   "execution_count": 15,
   "id": "7aa84926",
   "metadata": {},
   "outputs": [],
   "source": [
    "################################\n",
    "# Reporting. Do not modify.#####\n",
    "result['fig7'] = fig7\n",
    "################################"
   ]
  },
  {
   "cell_type": "markdown",
   "id": "5fee6506",
   "metadata": {},
   "source": [
    "# 8) Plot the percent information retained (sum of singular values) vs $r$"
   ]
  },
  {
   "cell_type": "code",
   "execution_count": 16,
   "id": "75d1ff54",
   "metadata": {},
   "outputs": [
    {
     "data": {
      "text/plain": [
       "Text(0, 0.5, 'Variance preserved')"
      ]
     },
     "execution_count": 16,
     "metadata": {},
     "output_type": "execute_result"
    },
    {
     "data": {
      "image/png": "[encoded data removed]",
      "text/plain": [
       "<Figure size 720x360 with 1 Axes>"
      ]
     },
     "metadata": {
      "needs_background": "light"
     },
     "output_type": "display_data"
    }
   ],
   "source": [
    "fig8 = plt.figure(figsize=(10,5))\n",
    "# Add you code here"
   ]
  },
  {
   "cell_type": "code",
   "execution_count": 17,
   "id": "fd4f6263",
   "metadata": {},
   "outputs": [],
   "source": [
    "################################\n",
    "# Reporting. Do not modify.#####\n",
    "result['fig8'] = fig8\n",
    "################################"
   ]
  },
  {
   "cell_type": "markdown",
   "id": "efcc64a2",
   "metadata": {},
   "source": [
    "# 9) How many columns should be kept to preserve 90% of the  variance?\n",
    "Record your answer as `cols90`"
   ]
  },
  {
   "cell_type": "code",
   "execution_count": 18,
   "id": "ef4dc9fd",
   "metadata": {},
   "outputs": [],
   "source": [
    "cols90 = None   # Add you code here"
   ]
  },
  {
   "cell_type": "code",
   "execution_count": 19,
   "id": "7a61a5cd",
   "metadata": {},
   "outputs": [],
   "source": [
    "################################\n",
    "# Reporting. Do not modify.#####\n",
    "result['cols90'] = cols90\n",
    "################################"
   ]
  },
  {
   "cell_type": "markdown",
   "id": "0658493a",
   "metadata": {},
   "source": [
    "---\n",
    "## Do not modify below this"
   ]
  },
  {
   "cell_type": "code",
   "execution_count": 20,
   "id": "57a3b275",
   "metadata": {},
   "outputs": [],
   "source": [
    "with open('hw3_prob1_{}.pickle'.format(result['SID']),'wb') as file:\n",
    "    pickle.dump(result,file)"
   ]
  }
 ],
 "metadata": {
  "kernelspec": {
   "display_name": "Python 3 (ipykernel)",
   "language": "python",
   "name": "python3"
  },
  "language_info": {
   "codemirror_mode": {
    "name": "ipython",
    "version": 3
   },
   "file_extension": ".py",
   "mimetype": "text/x-python",
   "name": "python",
   "nbconvert_exporter": "python",
   "pygments_lexer": "ipython3",
   "version": "3.9.9"
  }
 },
 "nbformat": 4,
 "nbformat_minor": 5
}
