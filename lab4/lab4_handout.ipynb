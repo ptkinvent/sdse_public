{
 "cells": [
  {
   "cell_type": "markdown",
   "metadata": {
    "id": "gwjQaS_3LbI3"
   },
   "source": [
    "---\n",
    "\n",
    "<h1><center>SDSE Lab 4 <br><br> Time series analysis </center></h1>\n",
    "\n",
    "---"
   ]
  },
  {
   "cell_type": "code",
   "execution_count": null,
   "metadata": {
    "executionInfo": {
     "elapsed": 3,
     "status": "ok",
     "timestamp": 1646811359856,
     "user": {
      "displayName": "Prateek Sahay",
      "photoUrl": "https://lh3.googleusercontent.com/a-/AOh14Gg7t9vaQdFncH9w3LCTh4Rgeqpz8oOQ-WBMG-CsGg=s64",
      "userId": "14965323898124320110"
     },
     "user_tz": 480
    },
    "id": "e9lgsYI0LbI6"
   },
   "outputs": [],
   "source": [
    "result = {\n",
    "    'group_number' : 23  # Enter you group number here\n",
    "}"
   ]
  },
  {
   "cell_type": "code",
   "execution_count": null,
   "metadata": {
    "colab": {
     "base_uri": "https://localhost:8080/"
    },
    "executionInfo": {
     "elapsed": 790,
     "status": "ok",
     "timestamp": 1646811362085,
     "user": {
      "displayName": "Prateek Sahay",
      "photoUrl": "https://lh3.googleusercontent.com/a-/AOh14Gg7t9vaQdFncH9w3LCTh4Rgeqpz8oOQ-WBMG-CsGg=s64",
      "userId": "14965323898124320110"
     },
     "user_tz": 480
    },
    "id": "lWL70abiLbI8",
    "outputId": "40a28acd-d49f-479c-ba65-6b519380de67"
   },
   "outputs": [],
   "source": [
    "import numpy as np\n",
    "import matplotlib.pyplot as plt\n",
    "import pickle\n",
    "from ts_helper import *\n",
    "import pandas as pd\n",
    "from statsmodels.tsa.filters.filtertools import convolution_filter"
   ]
  },
  {
   "cell_type": "markdown",
   "metadata": {
    "id": "XRFYYFIxLbI9"
   },
   "source": [
    "In this lab we will also use Pandas, which is a Python package for working with tabular and time series data. Pandas offers two very useful data types: the [`DataFrame`](https://pandas.pydata.org/docs/reference/api/pandas.DataFrame.html) and the [`Series`](https://pandas.pydata.org/docs/reference/api/pandas.Series.html). We use Pandas only superficially here, and it is capable of a lot more. \n",
    "\n",
    "# The dataset\n",
    "\n",
    "We will analyze data collected at the Mauna Loa Observatory in Hawaii. Due to its high elevation (3,397 meters above sea level) and its remote location in the middle of the Pacific Ocean, the Mauna Loa Observatory is an ideal place for monitoring the health of the atmosphere. The data that we will work with consists of weekly measurements of CO2 concentrations between 1958 and 2001. "
   ]
  },
  {
   "cell_type": "markdown",
   "metadata": {
    "id": "5xMW1ZmoLbI-"
   },
   "source": [
    "The Mauna Loa dataset is included with the `statsmodels` package. The next cell loads the data into a Pandas `DataFrame` object."
   ]
  },
  {
   "cell_type": "code",
   "execution_count": null,
   "metadata": {
    "colab": {
     "base_uri": "https://localhost:8080/",
     "height": 424
    },
    "executionInfo": {
     "elapsed": 533,
     "status": "ok",
     "timestamp": 1646811368720,
     "user": {
      "displayName": "Prateek Sahay",
      "photoUrl": "https://lh3.googleusercontent.com/a-/AOh14Gg7t9vaQdFncH9w3LCTh4Rgeqpz8oOQ-WBMG-CsGg=s64",
      "userId": "14965323898124320110"
     },
     "user_tz": 480
    },
    "id": "oH5NPCULLbI_",
    "outputId": "46bc68e2-8704-4feb-fb14-68c366d1bbb9"
   },
   "outputs": [],
   "source": [
    "from statsmodels.datasets import co2\n",
    "df = co2.load_pandas().data\n",
    "df"
   ]
  },
  {
   "cell_type": "markdown",
   "metadata": {
    "id": "w78CyKvPLbJA"
   },
   "source": [
    "The left column in the table are time stamps, the right column contains the measurements. The time stamps are the index to the `DataFrame`. Notice that their type is `Timestamp`. Pandas `Timestamp`s are a convenient means of working with time series data. They include functionality for converting between units of time, and computing time intervals as the difference between `Timestamp` objects. Also, when plotting a `Series` with index of type `Timestamp`, the labels of the x-axis are automatically formatted."
   ]
  },
  {
   "cell_type": "code",
   "execution_count": null,
   "metadata": {
    "colab": {
     "base_uri": "https://localhost:8080/"
    },
    "executionInfo": {
     "elapsed": 164,
     "status": "ok",
     "timestamp": 1646811372242,
     "user": {
      "displayName": "Prateek Sahay",
      "photoUrl": "https://lh3.googleusercontent.com/a-/AOh14Gg7t9vaQdFncH9w3LCTh4Rgeqpz8oOQ-WBMG-CsGg=s64",
      "userId": "14965323898124320110"
     },
     "user_tz": 480
    },
    "id": "DCxF8467LbJA",
    "outputId": "04bf2e4b-8b82-4b06-8cf5-9ee4dce18f4a"
   },
   "outputs": [],
   "source": [
    "type(df.index[0])"
   ]
  },
  {
   "cell_type": "markdown",
   "metadata": {
    "id": "TSIh8mWJLbJC"
   },
   "source": [
    "The first step is to plot the data. You can do this either with `matplotlib` as we've done before, or using the `plot` function attached to pandas `DataFrame`s and `Series` objects."
   ]
  },
  {
   "cell_type": "code",
   "execution_count": null,
   "metadata": {
    "colab": {
     "base_uri": "https://localhost:8080/",
     "height": 338
    },
    "executionInfo": {
     "elapsed": 582,
     "status": "ok",
     "timestamp": 1646811376567,
     "user": {
      "displayName": "Prateek Sahay",
      "photoUrl": "https://lh3.googleusercontent.com/a-/AOh14Gg7t9vaQdFncH9w3LCTh4Rgeqpz8oOQ-WBMG-CsGg=s64",
      "userId": "14965323898124320110"
     },
     "user_tz": 480
    },
    "id": "6eGuTPaxLbJC",
    "outputId": "7b86683b-ec92-47dc-c6b0-3986402fe771"
   },
   "outputs": [],
   "source": [
    "df.plot(figsize=(15,5))"
   ]
  },
  {
   "cell_type": "markdown",
   "metadata": {
    "id": "RBILOm2GLbJD"
   },
   "source": [
    "Notice the gaps in the line. These are due to NaN values in the table. If the data were iid, it would make sense to simply discard these rows. However, in this case we cannot do that since we require the sampling rate to remain constant throughout the time series. We will use simple linear interpolation to fill in the missing values. The next cell runs `interpolate` on teh `co2` `Series` and stores the result in a new column called `co2int`."
   ]
  },
  {
   "cell_type": "code",
   "execution_count": null,
   "metadata": {
    "colab": {
     "base_uri": "https://localhost:8080/",
     "height": 206
    },
    "executionInfo": {
     "elapsed": 149,
     "status": "ok",
     "timestamp": 1646811381128,
     "user": {
      "displayName": "Prateek Sahay",
      "photoUrl": "https://lh3.googleusercontent.com/a-/AOh14Gg7t9vaQdFncH9w3LCTh4Rgeqpz8oOQ-WBMG-CsGg=s64",
      "userId": "14965323898124320110"
     },
     "user_tz": 480
    },
    "id": "KRrjYoPtLbJE",
    "outputId": "9b86aca1-04de-4a51-8118-5fff0fdd08a8"
   },
   "outputs": [],
   "source": [
    "df['co2int'] = df['co2'].interpolate()\n",
    "df.head()"
   ]
  },
  {
   "cell_type": "markdown",
   "metadata": {
    "id": "_WUEYfIrLbJE"
   },
   "source": [
    "Notice the following compact syntax for plotting two columns of `df`."
   ]
  },
  {
   "cell_type": "code",
   "execution_count": null,
   "metadata": {
    "colab": {
     "base_uri": "https://localhost:8080/",
     "height": 338
    },
    "executionInfo": {
     "elapsed": 570,
     "status": "ok",
     "timestamp": 1646811386429,
     "user": {
      "displayName": "Prateek Sahay",
      "photoUrl": "https://lh3.googleusercontent.com/a-/AOh14Gg7t9vaQdFncH9w3LCTh4Rgeqpz8oOQ-WBMG-CsGg=s64",
      "userId": "14965323898124320110"
     },
     "user_tz": 480
    },
    "id": "XdIAlrj6LbJF",
    "outputId": "9bdabc48-6f3f-4e77-bafe-cdc407f0f729"
   },
   "outputs": [],
   "source": [
    "df.plot(figsize=(15,5),y=['co2int','co2'])"
   ]
  },
  {
   "cell_type": "markdown",
   "metadata": {
    "id": "Ros34Gh7LbJF"
   },
   "source": [
    "# Split data into training and testing \n",
    "\n",
    "Next we will select training and testing time series and store them in `y_hist` and `y_future` respectively. `y_hist` should consist of the interpolated measurements up to the end of 1985. `y_future` should contain interpolated measurements from 1986 through the end of 1990. Use Pandas' `loc` method to extract these two series from the `co2int` column of `df`. \n",
    "\n",
    "Checks: \n",
    "+ `len(y_hist)=1449`\n",
    "+ `len(y_future)=261`\n",
    "+ `y_hist` starts on 1958-03-29 and ends on 1985-12-28 \n",
    "+ `y_future` starts on 1986-01-04 and ends on 1990-12-29"
   ]
  },
  {
   "cell_type": "code",
   "execution_count": null,
   "metadata": {
    "executionInfo": {
     "elapsed": 131,
     "status": "ok",
     "timestamp": 1646811404710,
     "user": {
      "displayName": "Prateek Sahay",
      "photoUrl": "https://lh3.googleusercontent.com/a-/AOh14Gg7t9vaQdFncH9w3LCTh4Rgeqpz8oOQ-WBMG-CsGg=s64",
      "userId": "14965323898124320110"
     },
     "user_tz": 480
    },
    "id": "GNcvwApYLbJG"
   },
   "outputs": [],
   "source": [
    "y_hist = df.loc[:'1985','co2int']    # ADD CODE HERE\n",
    "y_future = df.loc['1986':'1990','co2int']    # ADD CODE HERE\n",
    "len(y_hist), len(y_future), y_hist.index[0], y_future.index[0]"
   ]
  },
  {
   "cell_type": "code",
   "execution_count": null,
   "metadata": {
    "executionInfo": {
     "elapsed": 147,
     "status": "ok",
     "timestamp": 1646811409333,
     "user": {
      "displayName": "Prateek Sahay",
      "photoUrl": "https://lh3.googleusercontent.com/a-/AOh14Gg7t9vaQdFncH9w3LCTh4Rgeqpz8oOQ-WBMG-CsGg=s64",
      "userId": "14965323898124320110"
     },
     "user_tz": 480
    },
    "id": "A4dHV5cwLbJG"
   },
   "outputs": [],
   "source": [
    "################################\n",
    "# Reporting. Do not modify.#####\n",
    "result['y_hist'] = y_hist\n",
    "result['y_future'] = y_future\n",
    "################################"
   ]
  },
  {
   "cell_type": "markdown",
   "metadata": {
    "id": "wDXKQ7RALbJH"
   },
   "source": [
    "Create a line plot showing both historical (training) and forecast (testing) datasets. Notice that matplotlib's `plot` function can infer the x-axis values from the the indexes of the two `Series` object. "
   ]
  },
  {
   "cell_type": "code",
   "execution_count": null,
   "metadata": {
    "colab": {
     "base_uri": "https://localhost:8080/",
     "height": 352
    },
    "executionInfo": {
     "elapsed": 853,
     "status": "ok",
     "timestamp": 1646811421105,
     "user": {
      "displayName": "Prateek Sahay",
      "photoUrl": "https://lh3.googleusercontent.com/a-/AOh14Gg7t9vaQdFncH9w3LCTh4Rgeqpz8oOQ-WBMG-CsGg=s64",
      "userId": "14965323898124320110"
     },
     "user_tz": 480
    },
    "id": "5PKAgWEDLbJI",
    "outputId": "8e031713-98f8-4dbc-c708-e354fb731bc0"
   },
   "outputs": [],
   "source": [
    "fig1 = plt.figure(figsize=(15,5))\n",
    "\n",
    "# ADD CODE HERE\n",
    "plt.plot(y_hist)\n",
    "plt.plot(y_future)\n",
    "plt.xlabel('Year')\n",
    "plt.ylabel('CO2')"
   ]
  },
  {
   "cell_type": "code",
   "execution_count": null,
   "metadata": {
    "executionInfo": {
     "elapsed": 146,
     "status": "ok",
     "timestamp": 1646811427479,
     "user": {
      "displayName": "Prateek Sahay",
      "photoUrl": "https://lh3.googleusercontent.com/a-/AOh14Gg7t9vaQdFncH9w3LCTh4Rgeqpz8oOQ-WBMG-CsGg=s64",
      "userId": "14965323898124320110"
     },
     "user_tz": 480
    },
    "id": "0eAMUNm0LbJI"
   },
   "outputs": [],
   "source": [
    "################################\n",
    "# Reporting. Do not modify.#####\n",
    "result['fig1'] = fig1\n",
    "################################"
   ]
  },
  {
   "cell_type": "markdown",
   "metadata": {
    "id": "ruluxQhJLbJI"
   },
   "source": [
    "# Extract the trend\n",
    "\n",
    "The sampling period of the data is weekly. From the previous graph we note that there is a clear periodicity of one solar year, or 52.18 weeks, or 525,949 minutes. This is the true period of the data, however we also need an integer number of samples for the period, which we choose to be 52. Below we define these two values; the true period and the rounded period.\n"
   ]
  },
  {
   "cell_type": "code",
   "execution_count": null,
   "metadata": {
    "executionInfo": {
     "elapsed": 151,
     "status": "ok",
     "timestamp": 1646811432898,
     "user": {
      "displayName": "Prateek Sahay",
      "photoUrl": "https://lh3.googleusercontent.com/a-/AOh14Gg7t9vaQdFncH9w3LCTh4Rgeqpz8oOQ-WBMG-CsGg=s64",
      "userId": "14965323898124320110"
     },
     "user_tz": 480
    },
    "id": "Im2FAO6OLbJJ"
   },
   "outputs": [],
   "source": [
    "minute_per_year = 525_949 # true period in minutes\n",
    "round_period = 52  # rounded period in # samples = # weeks"
   ]
  },
  {
   "cell_type": "markdown",
   "metadata": {
    "id": "qtszXUVHLbJJ"
   },
   "source": [
    "\n",
    "To extract the trend we will smooth `y_hist` with a convolution kernel with length equal to the period length. \n",
    "\n",
    "Build a convolution kernel with the following properties:\n",
    "+ It should be a numpy array with shape (53,1).\n",
    "+ Its sum should equal 1. \n",
    "+ All values should be positive. \n",
    "+ All of its values should be equal, except the first and the last whose value should be one half of the others. "
   ]
  },
  {
   "cell_type": "code",
   "execution_count": null,
   "metadata": {
    "executionInfo": {
     "elapsed": 141,
     "status": "ok",
     "timestamp": 1646811443829,
     "user": {
      "displayName": "Prateek Sahay",
      "photoUrl": "https://lh3.googleusercontent.com/a-/AOh14Gg7t9vaQdFncH9w3LCTh4Rgeqpz8oOQ-WBMG-CsGg=s64",
      "userId": "14965323898124320110"
     },
     "user_tz": 480
    },
    "id": "mJRfQpVDLbJJ"
   },
   "outputs": [],
   "source": [
    "kernel  = np.ones(round_period+1) \n",
    "\n",
    "# ADD CODE HERE\n",
    "kernel[0] = 0.5\n",
    "kernel[-1] = 0.5\n",
    "kernel /= kernel.sum()"
   ]
  },
  {
   "cell_type": "code",
   "execution_count": null,
   "metadata": {
    "executionInfo": {
     "elapsed": 153,
     "status": "ok",
     "timestamp": 1646811447378,
     "user": {
      "displayName": "Prateek Sahay",
      "photoUrl": "https://lh3.googleusercontent.com/a-/AOh14Gg7t9vaQdFncH9w3LCTh4Rgeqpz8oOQ-WBMG-CsGg=s64",
      "userId": "14965323898124320110"
     },
     "user_tz": 480
    },
    "id": "uaJT3d-7LbJJ"
   },
   "outputs": [],
   "source": [
    "################################\n",
    "# Reporting. Do not modify.#####\n",
    "result['kernel'] = kernel\n",
    "################################"
   ]
  },
  {
   "cell_type": "markdown",
   "metadata": {
    "id": "3mav1gOQLbJK"
   },
   "source": [
    "The following code runs the convolution kernel over `y_hist` and then fills the two ends of the time series by extrapolation."
   ]
  },
  {
   "cell_type": "code",
   "execution_count": null,
   "metadata": {
    "colab": {
     "base_uri": "https://localhost:8080/",
     "height": 352
    },
    "executionInfo": {
     "elapsed": 827,
     "status": "ok",
     "timestamp": 1646811504995,
     "user": {
      "displayName": "Prateek Sahay",
      "photoUrl": "https://lh3.googleusercontent.com/a-/AOh14Gg7t9vaQdFncH9w3LCTh4Rgeqpz8oOQ-WBMG-CsGg=s64",
      "userId": "14965323898124320110"
     },
     "user_tz": 480
    },
    "id": "IJvtKYjKLbJK",
    "outputId": "b3e1aeab-c6b0-47dd-fa56-6e6df57a677e"
   },
   "outputs": [],
   "source": [
    "nsides = 2\n",
    "trend = convolution_filter(y_hist, kernel, 2)\n",
    "trend = extrapolate_trend(trend, round_period + 1)\n",
    "\n",
    "plt.figure(figsize=(15,5))\n",
    "trend.plot()\n",
    "y_hist.plot()\n",
    "plt.xlabel('Year')\n",
    "plt.ylabel('CO2')"
   ]
  },
  {
   "cell_type": "markdown",
   "metadata": {
    "id": "qOOnrBC0LbJK"
   },
   "source": [
    "# Detrend the data\n",
    "\n",
    "Compute the detrended time series by subtracting the trend from `y_hist`. Plot the result."
   ]
  },
  {
   "cell_type": "code",
   "execution_count": null,
   "metadata": {
    "colab": {
     "base_uri": "https://localhost:8080/",
     "height": 355
    },
    "executionInfo": {
     "elapsed": 750,
     "status": "ok",
     "timestamp": 1646811510606,
     "user": {
      "displayName": "Prateek Sahay",
      "photoUrl": "https://lh3.googleusercontent.com/a-/AOh14Gg7t9vaQdFncH9w3LCTh4Rgeqpz8oOQ-WBMG-CsGg=s64",
      "userId": "14965323898124320110"
     },
     "user_tz": 480
    },
    "id": "awHVJTOJLbJL",
    "outputId": "15da6f30-8fac-4e9f-99c1-9e692e54ca48"
   },
   "outputs": [],
   "source": [
    "detrended = y_hist - trend  # ADD CODE HERE\n",
    "\n",
    "fig2 = plt.figure(figsize=(15,5))\n",
    "\n",
    "# ADD CODE HERE\n",
    "detrended.plot()\n",
    "plt.xlabel('Year')\n",
    "plt.ylabel('CO2')"
   ]
  },
  {
   "cell_type": "code",
   "execution_count": null,
   "metadata": {
    "executionInfo": {
     "elapsed": 138,
     "status": "ok",
     "timestamp": 1646811525239,
     "user": {
      "displayName": "Prateek Sahay",
      "photoUrl": "https://lh3.googleusercontent.com/a-/AOh14Gg7t9vaQdFncH9w3LCTh4Rgeqpz8oOQ-WBMG-CsGg=s64",
      "userId": "14965323898124320110"
     },
     "user_tz": 480
    },
    "id": "InGbxGkaLbJL"
   },
   "outputs": [],
   "source": [
    "################################\n",
    "# Reporting. Do not modify.#####\n",
    "result['fig2'] = fig2\n",
    "################################"
   ]
  },
  {
   "cell_type": "markdown",
   "metadata": {
    "id": "TqzIiWipLbJL"
   },
   "source": [
    "# Extract the seasonal component"
   ]
  },
  {
   "cell_type": "markdown",
   "metadata": {
    "id": "MDj4yi-ULbJL"
   },
   "source": [
    "Next we split the historical data into yearly periods. For ease of prediction, we place the boundary of the last period on the last data point in `y_hist`. Then, each period begins some integer number of years before 1985-12-28. Here we need to account for the fact that the true period is not an integer number of samples. \n",
    "\n",
    "The following code computes the indices of the boundaries between periods. "
   ]
  },
  {
   "cell_type": "code",
   "execution_count": null,
   "metadata": {
    "executionInfo": {
     "elapsed": 129,
     "status": "ok",
     "timestamp": 1646811539436,
     "user": {
      "displayName": "Prateek Sahay",
      "photoUrl": "https://lh3.googleusercontent.com/a-/AOh14Gg7t9vaQdFncH9w3LCTh4Rgeqpz8oOQ-WBMG-CsGg=s64",
      "userId": "14965323898124320110"
     },
     "user_tz": 480
    },
    "id": "pFEYlqlALbJM"
   },
   "outputs": [],
   "source": [
    "delta = y_hist.index - y_hist.index[-1]\n",
    "mod = np.mod(delta.days*24*60, minute_per_year)\n",
    "split_ind = np.where(np.diff(mod)<0)[0] + 1\n",
    "split_ind = split_ind[:-1]\n",
    "\n",
    "# Remove the portion of `y_hist`, `trend`, and `detrended` prior to the beginning of the first period. \n",
    "y_hist = y_hist[split_ind[0]:]\n",
    "trend = trend[split_ind[0]:]\n",
    "detrended = detrended[split_ind[0]:]\n",
    "split_ind -= split_ind[0]"
   ]
  },
  {
   "cell_type": "markdown",
   "metadata": {
    "id": "bl9qsoF9LbJM"
   },
   "source": [
    "Plot the detrended data as before and overlay it with vertical line (`plt.axvline`) at the boundaries defined in `split_ind`."
   ]
  },
  {
   "cell_type": "code",
   "execution_count": null,
   "metadata": {
    "colab": {
     "base_uri": "https://localhost:8080/",
     "height": 323
    },
    "executionInfo": {
     "elapsed": 1113,
     "status": "ok",
     "timestamp": 1646811604696,
     "user": {
      "displayName": "Prateek Sahay",
      "photoUrl": "https://lh3.googleusercontent.com/a-/AOh14Gg7t9vaQdFncH9w3LCTh4Rgeqpz8oOQ-WBMG-CsGg=s64",
      "userId": "14965323898124320110"
     },
     "user_tz": 480
    },
    "id": "aYAZnZ53LbJN",
    "outputId": "2f72d72e-7477-4ec0-e8bb-4879abc44ff7"
   },
   "outputs": [],
   "source": [
    "fig3 = plt.figure(figsize=(15,5))\n",
    "\n",
    "# ADD CODE HERE\n",
    "detrended.plot()\n",
    "for i in split_ind:\n",
    "    plt.axvline(detrended.index[i])"
   ]
  },
  {
   "cell_type": "code",
   "execution_count": null,
   "metadata": {
    "executionInfo": {
     "elapsed": 127,
     "status": "ok",
     "timestamp": 1646811583009,
     "user": {
      "displayName": "Prateek Sahay",
      "photoUrl": "https://lh3.googleusercontent.com/a-/AOh14Gg7t9vaQdFncH9w3LCTh4Rgeqpz8oOQ-WBMG-CsGg=s64",
      "userId": "14965323898124320110"
     },
     "user_tz": 480
    },
    "id": "XhCQpfl1LbJN"
   },
   "outputs": [],
   "source": [
    "################################\n",
    "# Reporting. Do not modify.#####\n",
    "result['fig3'] = fig3\n",
    "################################"
   ]
  },
  {
   "cell_type": "markdown",
   "metadata": {
    "id": "8XCBUjwILbJN"
   },
   "source": [
    "Create a matrix (ie a 2D numpy array) with `round_period` columns and one row for every period. Populate each row with the first `round_period` values in each period. "
   ]
  },
  {
   "cell_type": "code",
   "execution_count": null,
   "metadata": {
    "id": "wsa6KHvpLbJO"
   },
   "outputs": [],
   "source": [
    "all_periods = np.zeros((len(split_ind),round_period))\n",
    "\n",
    "# ADD CODE HERE\n",
    "for i in range(len(split_ind)):\n",
    "    start_index = split_ind[i]\n",
    "    for delta in range(round_period):\n",
    "        all_periods[i, delta] = detrended[start_index + delta]"
   ]
  },
  {
   "cell_type": "code",
   "execution_count": null,
   "metadata": {
    "id": "6ehRlrn3LbJO"
   },
   "outputs": [],
   "source": [
    "################################\n",
    "# Reporting. Do not modify.#####\n",
    "result['all_periods'] = all_periods\n",
    "################################"
   ]
  },
  {
   "cell_type": "markdown",
   "metadata": {
    "id": "NV08iI3kLbJP"
   },
   "source": [
    "Compute the average period profile and store it as `all_periods_avg`. The shape of `all_periods_avg` should be `(52,)`.\n",
    "\n",
    "Create a plot with the following elements:\n",
    "+ All rows of `all_periods` plotted in a single plot. All should be plotted in black and with `linewidth=0.3`.\n",
    "+ The average profile in magenta with `linewidth=4`. "
   ]
  },
  {
   "cell_type": "code",
   "execution_count": null,
   "metadata": {
    "id": "6bW5UHHSLbJP"
   },
   "outputs": [],
   "source": [
    "all_periods_avg = all_periods.mean(axis=0) # ADD CODE HERE\n",
    "\n",
    "fig4 = plt.figure(figsize=(8,5))\n",
    "\n",
    "# ADD CODE HERE\n",
    "for i in range(all_periods.shape[0]):\n",
    "    plt.plot(all_periods[i,:], color='black', linewidth=0.3)\n",
    "\n",
    "plt.plot(all_periods_avg, color='magenta', linewidth=4)"
   ]
  },
  {
   "cell_type": "code",
   "execution_count": null,
   "metadata": {
    "id": "csQN3rZ7LbJP"
   },
   "outputs": [],
   "source": [
    "################################\n",
    "# Reporting. Do not modify.#####\n",
    "result['fig4'] = fig4\n",
    "################################"
   ]
  },
  {
   "cell_type": "markdown",
   "metadata": {
    "id": "LB-Er1pALbJQ"
   },
   "source": [
    "# Model the historical data"
   ]
  },
  {
   "cell_type": "markdown",
   "metadata": {
    "id": "66l9-29NLbJQ"
   },
   "source": [
    "Construct the model for the historical data.\n",
    "1. Create a `Series` object called `y_hist_model` with index equal to `y_hist.index`. (Done already)\n",
    "2. For each period, set the first `round_period` values in that period to `all_periods_avg`. \n",
    "3. Add in the trend.\n",
    "4. Fill in gaps left by leap years using linear interpolation.\n",
    "\n",
    "Plot the result along with `y_hist`. "
   ]
  },
  {
   "cell_type": "code",
   "execution_count": null,
   "metadata": {
    "id": "HMROM38eLbJR"
   },
   "outputs": [],
   "source": [
    "y_hist_model = pd.Series(index=y_hist.index,data=np.NaN)\n",
    "\n",
    "#ADD CODE HERE\n",
    "for i in range(len(split_ind)):\n",
    "    start_index = split_ind[i]\n",
    "    for delta in range(round_period):\n",
    "        y_hist_model[start_index + delta] = all_periods_avg[delta]\n",
    "y_hist_model += trend\n",
    "\n",
    "y_hist_model = y_hist_model.interpolate()"
   ]
  },
  {
   "cell_type": "code",
   "execution_count": null,
   "metadata": {
    "id": "sXi8B3s4LbJR"
   },
   "outputs": [],
   "source": [
    "fig5 = plt.figure(figsize=(15,5))\n",
    "\n",
    "#ADD CODE HERE\n",
    "y_hist.plot()\n",
    "y_hist_model.plot()\n",
    "plt.legend(['y_hist', 'y_hist_model'])"
   ]
  },
  {
   "cell_type": "code",
   "execution_count": null,
   "metadata": {
    "id": "6TdW12DeLbJS"
   },
   "outputs": [],
   "source": [
    "################################\n",
    "# Reporting. Do not modify.#####\n",
    "result['y_hist_model'] = y_hist_model\n",
    "result['fig5'] = fig5\n",
    "################################"
   ]
  },
  {
   "cell_type": "markdown",
   "metadata": {
    "id": "w4B4upT8LbJS"
   },
   "source": [
    "Compute the residue by subtracting the model from the `y_hist`"
   ]
  },
  {
   "cell_type": "code",
   "execution_count": null,
   "metadata": {
    "id": "MTZgkx2LLbJS"
   },
   "outputs": [],
   "source": [
    "residue = y_hist - y_hist_model # ADD CODE HERE"
   ]
  },
  {
   "cell_type": "code",
   "execution_count": null,
   "metadata": {
    "id": "Zpt3Ga5ELbJS"
   },
   "outputs": [],
   "source": [
    "################################\n",
    "# Reporting. Do not modify.#####\n",
    "result['residue'] = residue\n",
    "################################"
   ]
  },
  {
   "cell_type": "markdown",
   "metadata": {
    "id": "QDmjZMtOLbJT"
   },
   "source": [
    "# Prediction \n",
    "\n",
    "1. Use Python's `//` operator to compute the integer number of 52-week years in `y_future`. Call this value `num_future_years`.\n",
    "2. Discard the samples in `y_future` that go beyond `num_future_seasons*round_period`. \n",
    "\n",
    "Hint: After doing this, `len(y_future)` should equal 260.\n"
   ]
  },
  {
   "cell_type": "code",
   "execution_count": null,
   "metadata": {
    "id": "X4_NZYX7LbJT"
   },
   "outputs": [],
   "source": [
    "num_future_seasons = len(y_future) // 52 * 52 # ADD CODE HERE\n",
    "y_future = y_future[:num_future_seasons] # ADD CODE HERE\n",
    "len(y_future)"
   ]
  },
  {
   "cell_type": "code",
   "execution_count": null,
   "metadata": {
    "id": "mwxSiRSTLbJT"
   },
   "outputs": [],
   "source": [
    "################################\n",
    "# Reporting. Do not modify.#####\n",
    "result['y_future'] = y_future\n",
    "################################"
   ]
  },
  {
   "cell_type": "markdown",
   "metadata": {
    "id": "Zpjx7M2kLbJU"
   },
   "source": [
    "Compute the average slope of the trend in the last two years of the historical period. Call this `avg_slope`. This slope is then used to construct `future_trend` as the linear extrapolation of the trend (done already)"
   ]
  },
  {
   "cell_type": "code",
   "execution_count": null,
   "metadata": {
    "id": "fb1ElzR4LbJU"
   },
   "outputs": [],
   "source": [
    "avg_slope = np.mean(np.diff(trend[105:])) # ADD CODE HERE\n",
    "future_trend = pd.Series(index=y_future.index, \n",
    "                         data = trend[-1] + range(1,len(y_future)+1)*avg_slope)"
   ]
  },
  {
   "cell_type": "code",
   "execution_count": null,
   "metadata": {
    "id": "X0biJTDyLbJU"
   },
   "outputs": [],
   "source": [
    "################################\n",
    "# Reporting. Do not modify.#####\n",
    "result['avg_slope'] = avg_slope\n",
    "################################"
   ]
  },
  {
   "cell_type": "markdown",
   "metadata": {
    "id": "0kQGll6fLbJV"
   },
   "source": [
    "Compute the prediction by adding the seasonal component to `future_trend`. Save this as `y_predict`. \n",
    "\n",
    "Hint: `np.tile()`\n",
    "\n",
    "Plot the following in a single plot:\n",
    "+ the final two years of `y_hist` and `trend`\n",
    "+ `y_future`\n",
    "+ `future_trend`\n",
    "+ `y_predict`\n",
    "\n",
    "Make sure that `trend` extends smoothly into `future_trend`."
   ]
  },
  {
   "cell_type": "code",
   "execution_count": null,
   "metadata": {
    "id": "rq2YpcapLbJV"
   },
   "outputs": [],
   "source": [
    "y_predict_data = np.tile(all_periods_avg, len(y_future)//52) + future_trend # ADD CODE HERE\n",
    "\n",
    "y_predict = pd.Series(index=y_future.index, data=y_predict_data)\n",
    "fig6 = plt.figure(figsize=(15,5))\n",
    "\n",
    "# ADD CODE HERE\n",
    "y_hist[-105:].plot()\n",
    "trend[-105:].plot()\n",
    "y_future.plot()\n",
    "future_trend.plot()\n",
    "y_predict.plot()\n",
    "plt.legend(['y_hist', 'trend', 'y_future', 'future_trend', 'y_predict'])"
   ]
  },
  {
   "cell_type": "code",
   "execution_count": null,
   "metadata": {
    "id": "adUhlIgzLbJV"
   },
   "outputs": [],
   "source": [
    "################################\n",
    "# Reporting. Do not modify.#####\n",
    "result['fig6'] = fig6\n",
    "################################"
   ]
  },
  {
   "cell_type": "markdown",
   "metadata": {
    "id": "22SmdMUkLbJW"
   },
   "source": [
    "Plot the residuals and prediction errors as time series, and on the same plot (but with different colors)."
   ]
  },
  {
   "cell_type": "code",
   "execution_count": null,
   "metadata": {
    "id": "-MWhl9GxLbJW"
   },
   "outputs": [],
   "source": [
    "fig7 = plt.figure(figsize=(15,5))\n",
    "\n",
    "# ADD CODE HERE\n",
    "residuals = y_hist - y_hist_model\n",
    "residuals.plot()\n",
    "prediction_errors = y_future - y_predict\n",
    "prediction_errors.plot()\n",
    "plt.legend(['residuals', 'prediction errors'])"
   ]
  },
  {
   "cell_type": "code",
   "execution_count": null,
   "metadata": {
    "id": "tvAG-ZraLbJW"
   },
   "outputs": [],
   "source": [
    "################################\n",
    "# Reporting. Do not modify.#####\n",
    "result['fig7'] = fig7\n",
    "################################"
   ]
  },
  {
   "cell_type": "markdown",
   "metadata": {
    "id": "1u2kjroxLbJW"
   },
   "source": [
    "Comment on the strengths and weaknesses of this approach to modeling relative to other time series techniques. "
   ]
  },
  {
   "cell_type": "code",
   "execution_count": null,
   "metadata": {
    "id": "iBQ5zhCHLbJW"
   },
   "outputs": [],
   "source": [
    "comment = 'The predicted values closely follow the actual values, but the values start diverging towards the end, more advanced \\\n",
    "           techniques might be capable of modeling a nonlinear trend such as an exponential, that better tracks future values. \\\n",
    "           Additionally, the residue can’t be effectively modeled to update future trend, while an approach like ARMA would be \\\n",
    "           able to do this. Other time-series approaches may allow for inputs, while this one requires significant time and \\\n",
    "           manual data manipulation from the user.'\n",
    "\n",
    "'no way to input'\n",
    "'also compare to ARMA'"
   ]
  },
  {
   "cell_type": "code",
   "execution_count": null,
   "metadata": {
    "id": "GL9rkeIULbJW"
   },
   "outputs": [],
   "source": [
    "################################\n",
    "# Reporting. Do not modify.#####\n",
    "result['comment'] = comment\n",
    "################################"
   ]
  },
  {
   "cell_type": "markdown",
   "metadata": {
    "id": "jxL4A6juLbJX"
   },
   "source": [
    "---\n",
    "## Do not modify below this"
   ]
  },
  {
   "cell_type": "code",
   "execution_count": null,
   "metadata": {
    "id": "tDpt9hv1LbJX"
   },
   "outputs": [],
   "source": [
    "with open('group_{}.pickle'.format(result['group_number']),'wb') as file:\n",
    "    pickle.dump(result,file)"
   ]
  }
 ],
 "metadata": {
  "colab": {
   "name": "lab4_handout.ipynb",
   "provenance": []
  },
  "interpreter": {
   "hash": "3b8b5ce4b1bd0cdb09a48c826d4154f25cb98d27fcdd75ace86cf123225b5557"
  },
  "kernelspec": {
   "display_name": "Python 3 (ipykernel)",
   "language": "python",
   "name": "python3"
  },
  "language_info": {
   "codemirror_mode": {
    "name": "ipython",
    "version": 3
   },
   "file_extension": ".py",
   "mimetype": "text/x-python",
   "name": "python",
   "nbconvert_exporter": "python",
   "pygments_lexer": "ipython3",
   "version": "3.9.9"
  }
 },
 "nbformat": 4,
 "nbformat_minor": 1
}
