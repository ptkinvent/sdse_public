{
 "cells": [
  {
   "cell_type": "markdown",
   "metadata": {},
   "source": [
    "---\n",
    "\n",
    "<h1><center>SDSE Lab 4 <br><br> Time series analysis </center></h1>\n",
    "\n",
    "---"
   ]
  },
  {
   "cell_type": "code",
   "execution_count": null,
   "metadata": {},
   "outputs": [],
   "source": [
    "result = {\n",
    "    'group_number' : 0  # Enter you group number here\n",
    "}"
   ]
  },
  {
   "cell_type": "code",
   "execution_count": null,
   "metadata": {},
   "outputs": [],
   "source": [
    "import numpy as np\n",
    "import matplotlib.pyplot as plt\n",
    "import pickle\n",
    "from ts_helper import *\n",
    "from statsmodels.tsa.filters.filtertools import convolution_filter"
   ]
  },
  {
   "cell_type": "markdown",
   "metadata": {},
   "source": [
    "In this lab we will also use Pandas, which is a Python package for working with tabular and time series data. Pandas offers two very useful data types: the [`DataFrame`](https://pandas.pydata.org/docs/reference/api/pandas.DataFrame.html) and the [`Series`](https://pandas.pydata.org/docs/reference/api/pandas.Series.html). We use Pandas only superficially here, and it is capable of a lot more. \n",
    "\n",
    "# The dataset\n",
    "\n",
    "We will analyze data collected at the Mauna Loa Observatory in Hawaii. Due to its high elevation (3,397 meters above sea level) and its remote location in the middle of the Pacific Ocean, the Mauna Loa Observatory is an ideal place for monitoring the health of the atmosphere. The data that we will work with consists of weekly measurements of CO2 concentrations between 1958 and 2001. "
   ]
  },
  {
   "cell_type": "markdown",
   "metadata": {},
   "source": [
    "The Mauna Loa dataset is included with the `statsmodels` package. The next cell loads the data into a Pandas `DataFrame` object."
   ]
  },
  {
   "cell_type": "code",
   "execution_count": null,
   "metadata": {},
   "outputs": [],
   "source": [
    "from statsmodels.datasets import co2\n",
    "df = co2.load_pandas().data\n",
    "df"
   ]
  },
  {
   "cell_type": "markdown",
   "metadata": {},
   "source": [
    "The left column in the table are time stamps, the right column contains the measurements. The time stamps are the index to the `DataFrame`. Notice that their type is `Timestamp`. Pandas `Timestamp`s are a convenient means of working with time series data. They include functionality for converting between units of time, and computing time intervals as the difference between `Timestamp` objects. Also, when plotting a `Series` with index of type `Timestamp`, the labels of the x-axis are automatically formatted."
   ]
  },
  {
   "cell_type": "code",
   "execution_count": null,
   "metadata": {},
   "outputs": [],
   "source": [
    "type(df.index[0])"
   ]
  },
  {
   "cell_type": "markdown",
   "metadata": {},
   "source": [
    "The first step is to plot the data. You can do this either with `matplotlib` as we've done before, or using the `plot` function attached to pandas `DataFrame`s and `Series` objects."
   ]
  },
  {
   "cell_type": "code",
   "execution_count": null,
   "metadata": {},
   "outputs": [],
   "source": [
    "df.plot(figsize=(15,5))"
   ]
  },
  {
   "cell_type": "markdown",
   "metadata": {},
   "source": [
    "Notice the gaps in the line. These are due to NaN values in the table. If the data were iid, it would make sense to simply discard these rows. However, in this case we cannot do that since we require the sampling rate to remain constant throughout the time series. We will use simple linear interpolation to fill in the missing values. The next cell runs `interpolate` on teh `co2` `Series` and stores the result in a new column called `co2int`."
   ]
  },
  {
   "cell_type": "code",
   "execution_count": null,
   "metadata": {},
   "outputs": [],
   "source": [
    "df['co2int'] = df['co2'].interpolate()\n",
    "df.head()"
   ]
  },
  {
   "cell_type": "markdown",
   "metadata": {},
   "source": [
    "Notice the following compact syntax for plotting two columns of `df`."
   ]
  },
  {
   "cell_type": "code",
   "execution_count": null,
   "metadata": {},
   "outputs": [],
   "source": [
    "df.plot(figsize=(15,5),y=['co2int','co2'])"
   ]
  },
  {
   "cell_type": "markdown",
   "metadata": {},
   "source": [
    "# Split data into training and testing \n",
    "\n",
    "Next we will select training and testing time series and store them in `y_hist` and `y_future` respectively. `y_hist` should consist of the interpolated measurements up to the end of 1985. `y_future` should contain interpolated measurements from 1986 through the end of 1990. Use Pandas' `loc` method to extract these two series from the `co2int` column of `df`. \n",
    "\n",
    "Checks: \n",
    "+ `len(y_hist)=1449`\n",
    "+ `len(y_future)=261`\n",
    "+ `y_hist` starts on 1958-03-29 and ends on 1985-12-28 \n",
    "+ `y_future` starts on 1986-01-04 and ends on 1990-12-29"
   ]
  },
  {
   "cell_type": "code",
   "execution_count": null,
   "metadata": {},
   "outputs": [],
   "source": [
    "y_hist = None    # ADD CODE HERE\n",
    "y_future = None    # ADD CODE HERE"
   ]
  },
  {
   "cell_type": "code",
   "execution_count": null,
   "metadata": {},
   "outputs": [],
   "source": [
    "################################\n",
    "# Reporting. Do not modify.#####\n",
    "result['y_hist'] = y_hist\n",
    "result['y_future'] = y_future\n",
    "################################"
   ]
  },
  {
   "cell_type": "markdown",
   "metadata": {},
   "source": [
    "Create a line plot showing both historical (training) and forecast (testing) datasets. Notice that matplotlib's `plot` function can infer the x-axis values from the the indexes of the two `Series` object. "
   ]
  },
  {
   "cell_type": "code",
   "execution_count": null,
   "metadata": {},
   "outputs": [],
   "source": [
    "fig1 = plt.figure(figsize=(15,5))\n",
    "# ADD CODE HERE"
   ]
  },
  {
   "cell_type": "code",
   "execution_count": null,
   "metadata": {},
   "outputs": [],
   "source": [
    "################################\n",
    "# Reporting. Do not modify.#####\n",
    "result['fig1'] = fig1\n",
    "################################"
   ]
  },
  {
   "cell_type": "markdown",
   "metadata": {},
   "source": [
    "# Extract the trend\n",
    "\n",
    "The sampling period of the data is weekly. From the previous graph we note that there is a clear periodicity of one solar year, or 52.18 weeks, or 525,949 minutes. This is the true period of the data, however we also need an integer number of samples for the period, which we choose to be 52. Below we define these two values; the true period and the rounded period.\n"
   ]
  },
  {
   "cell_type": "code",
   "execution_count": null,
   "metadata": {},
   "outputs": [],
   "source": [
    "minute_per_year = 525_949 # true period in minutes\n",
    "round_period = 52  # rounded period in # samples = # weeks"
   ]
  },
  {
   "cell_type": "markdown",
   "metadata": {},
   "source": [
    "\n",
    "To extract the trend we will smooth `y_hist` with a convolution kernel with length equal to the period length. \n",
    "\n",
    "Build a convolution kernel with the following properties:\n",
    "+ It should be a numpy array with shape (53,1).\n",
    "+ Its sum should equal 1. \n",
    "+ All values should be positive. \n",
    "+ All of its values should be equal, except the first and the last whose value should be one half of the others. "
   ]
  },
  {
   "cell_type": "code",
   "execution_count": null,
   "metadata": {},
   "outputs": [],
   "source": [
    "kernel  = np.ones(round_period+1) \n",
    "\n",
    "# ADD CODE HERE"
   ]
  },
  {
   "cell_type": "code",
   "execution_count": null,
   "metadata": {},
   "outputs": [],
   "source": [
    "################################\n",
    "# Reporting. Do not modify.#####\n",
    "result['kernel'] = kernel\n",
    "################################"
   ]
  },
  {
   "cell_type": "markdown",
   "metadata": {},
   "source": [
    "The following code runs the convolution kernel over `y_hist` and then fills the two ends of the time series by extrapolation."
   ]
  },
  {
   "cell_type": "code",
   "execution_count": null,
   "metadata": {},
   "outputs": [],
   "source": [
    "nsides = 2\n",
    "trend = convolution_filter(y_hist, kernel, 2)\n",
    "trend = extrapolate_trend(trend, round_period + 1)\n",
    "\n",
    "plt.figure(figsize=(15,5))\n",
    "trend.plot()\n",
    "y_hist.plot()"
   ]
  },
  {
   "cell_type": "markdown",
   "metadata": {},
   "source": [
    "# Detrend the data\n",
    "\n",
    "Compute the detrended time series by subtracting the trend from `y_hist`. Plot the result."
   ]
  },
  {
   "cell_type": "code",
   "execution_count": null,
   "metadata": {},
   "outputs": [],
   "source": [
    "detrended = None  # ADD CODE HERE\n",
    "\n",
    "fig2 = plt.figure(figsize=(15,5))\n",
    "# ADD CODE HERE"
   ]
  },
  {
   "cell_type": "code",
   "execution_count": null,
   "metadata": {},
   "outputs": [],
   "source": [
    "################################\n",
    "# Reporting. Do not modify.#####\n",
    "result['fig2'] = fig2\n",
    "################################"
   ]
  },
  {
   "cell_type": "markdown",
   "metadata": {},
   "source": [
    "# Extract the seasonal component"
   ]
  },
  {
   "cell_type": "markdown",
   "metadata": {},
   "source": [
    "Next we split the historical data into yearly periods. For ease of prediction, we place the boundary of the last period on the last data point in `y_hist`. Then, each period begins some integer number of years before 1985-12-28. Here we need to account for the fact that the true period is not an integer number of samples. \n",
    "\n",
    "The following code computes the indices of the boundaries between periods. "
   ]
  },
  {
   "cell_type": "code",
   "execution_count": null,
   "metadata": {},
   "outputs": [],
   "source": [
    "delta = y_hist.index - y_hist.index[-1]\n",
    "mod = np.mod(delta.days*24*60, minute_per_year)\n",
    "split_ind = np.where(np.diff(mod)<0)[0] + 1\n",
    "split_ind = split_ind[:-1]\n",
    "\n",
    "# Remove the portion of `y_hist`, `trend`, and `detrended` prior to the beginning of the first period. \n",
    "y_hist = y_hist[split_ind[0]:]\n",
    "trend = trend[split_ind[0]:]\n",
    "detrended = detrended[split_ind[0]:]\n",
    "split_ind -= split_ind[0]"
   ]
  },
  {
   "cell_type": "markdown",
   "metadata": {},
   "source": [
    "Plot the detrended data as before and overlay it with vertical line (`plt.axvline`) at the boundaries defined in `split_ind`."
   ]
  },
  {
   "cell_type": "code",
   "execution_count": null,
   "metadata": {},
   "outputs": [],
   "source": [
    "fig3 = plt.figure(figsize=(15,5))\n",
    "# ADD CODE HERE"
   ]
  },
  {
   "cell_type": "code",
   "execution_count": null,
   "metadata": {},
   "outputs": [],
   "source": [
    "################################\n",
    "# Reporting. Do not modify.#####\n",
    "result['fig3'] = fig3\n",
    "################################"
   ]
  },
  {
   "cell_type": "markdown",
   "metadata": {},
   "source": [
    "Create a matrix (ie a 2D numpy array) with `round_period` columns and one row for every period. Populate each row with the first `round_period` values in each period. "
   ]
  },
  {
   "cell_type": "code",
   "execution_count": null,
   "metadata": {},
   "outputs": [],
   "source": [
    "all_periods = np.zeros((len(split_ind),round_period))\n",
    "# ADD CODE HERE"
   ]
  },
  {
   "cell_type": "code",
   "execution_count": null,
   "metadata": {},
   "outputs": [],
   "source": [
    "################################\n",
    "# Reporting. Do not modify.#####\n",
    "result['all_periods'] = all_periods\n",
    "################################"
   ]
  },
  {
   "cell_type": "markdown",
   "metadata": {},
   "source": [
    "Compute the average period profile and store it as `all_periods_avg`. The shape of `all_periods_avg` should be `(52,)`.\n",
    "\n",
    "Create a plot with the following elements:\n",
    "+ All rows of `all_periods` plotted in a single plot. All should be plotted in black and with `linewidth=0.3`.\n",
    "+ The average profile in magenta with `linewidth=4`. "
   ]
  },
  {
   "cell_type": "code",
   "execution_count": null,
   "metadata": {},
   "outputs": [],
   "source": [
    "all_periods_avg = None # ADD CODE HERE\n",
    "\n",
    "fig4 = plt.figure(figsize=(8,5))\n",
    "# ADD CODE HERE"
   ]
  },
  {
   "cell_type": "code",
   "execution_count": null,
   "metadata": {},
   "outputs": [],
   "source": [
    "################################\n",
    "# Reporting. Do not modify.#####\n",
    "result['fig4'] = fig4\n",
    "################################"
   ]
  },
  {
   "cell_type": "markdown",
   "metadata": {},
   "source": [
    "# Model the historical data"
   ]
  },
  {
   "cell_type": "markdown",
   "metadata": {},
   "source": [
    "Construct the model for the historical data.\n",
    "1. Create a `Series` object called `y_hist_model` with index equal to `y_hist.index`. (Done already)\n",
    "2. For each period, set the first `round_period` values in that period to `all_periods_avg`. \n",
    "3. Add in the trend.\n",
    "4. Fill in gaps left by leap years using linear interpolation.\n",
    "\n",
    "Plot the result along with `y_hist`. "
   ]
  },
  {
   "cell_type": "code",
   "execution_count": null,
   "metadata": {},
   "outputs": [],
   "source": [
    "y_hist_model = pd.Series(index=y_hist.index,data=np.NaN)\n",
    "\n",
    "#ADD CODE HERE"
   ]
  },
  {
   "cell_type": "code",
   "execution_count": null,
   "metadata": {},
   "outputs": [],
   "source": [
    "fig5 = plt.figure(figsize=(15,5))\n",
    "\n",
    "#ADD CODE HERE"
   ]
  },
  {
   "cell_type": "code",
   "execution_count": null,
   "metadata": {},
   "outputs": [],
   "source": [
    "################################\n",
    "# Reporting. Do not modify.#####\n",
    "result['y_hist_model'] = y_hist_model\n",
    "result['fig5'] = fig5\n",
    "################################"
   ]
  },
  {
   "cell_type": "markdown",
   "metadata": {},
   "source": [
    "Compute the residue by subtracting the model from the `y_hist`"
   ]
  },
  {
   "cell_type": "code",
   "execution_count": null,
   "metadata": {},
   "outputs": [],
   "source": [
    "residue = None # ADD CODE HERE"
   ]
  },
  {
   "cell_type": "code",
   "execution_count": null,
   "metadata": {},
   "outputs": [],
   "source": [
    "################################\n",
    "# Reporting. Do not modify.#####\n",
    "result['residue'] = residue\n",
    "################################"
   ]
  },
  {
   "cell_type": "markdown",
   "metadata": {},
   "source": [
    "# Prediction \n",
    "\n",
    "1. Use Python's `//` operator to compute the integer number of 52-week years in `y_future`. Call this value `num_future_years`.\n",
    "2. Discard the samples in `y_future` that go beyond `num_future_seasons*round_period`. \n",
    "\n",
    "Hint: After doing this, `len(y_future)` should equal 260.\n"
   ]
  },
  {
   "cell_type": "code",
   "execution_count": null,
   "metadata": {},
   "outputs": [],
   "source": [
    "num_future_seasons = None # ADD CODE HERE\n",
    "y_future = None # ADD CODE HERE\n",
    "len(y_future)"
   ]
  },
  {
   "cell_type": "code",
   "execution_count": null,
   "metadata": {},
   "outputs": [],
   "source": [
    "################################\n",
    "# Reporting. Do not modify.#####\n",
    "result['y_future'] = y_future\n",
    "################################"
   ]
  },
  {
   "cell_type": "markdown",
   "metadata": {},
   "source": [
    "Compute the average slope of the trend in the last two years of the historical period. Call this `avg_slope`. This slope is then used to construct `future_trend` as the linear extrapolation of the trend (done already)"
   ]
  },
  {
   "cell_type": "code",
   "execution_count": null,
   "metadata": {},
   "outputs": [],
   "source": [
    "avg_slope = None # ADD CODE HERE\n",
    "future_trend = pd.Series(index=y_future.index, \n",
    "                         data= trend[-1] + range(1,len(y_future)+1)*avg_slope )"
   ]
  },
  {
   "cell_type": "code",
   "execution_count": null,
   "metadata": {},
   "outputs": [],
   "source": [
    "################################\n",
    "# Reporting. Do not modify.#####\n",
    "result['avg_slope'] = avg_slope\n",
    "################################"
   ]
  },
  {
   "cell_type": "markdown",
   "metadata": {},
   "source": [
    "Compute the prediction by adding the seasonal component to `future_trend`. Save this as `y_predict`. \n",
    "\n",
    "Hint: `np.tile()`\n",
    "\n",
    "Plot the following in a single plot:\n",
    "+ the final two years of `y_hist` and `trend`\n",
    "+ `y_future`\n",
    "+ `future_trend`\n",
    "+ `y_predict`\n",
    "\n",
    "Make sure that `trend` extends smoothly into `future_trend`."
   ]
  },
  {
   "cell_type": "code",
   "execution_count": null,
   "metadata": {},
   "outputs": [],
   "source": [
    "\n",
    "y_preidct_data = None # ADD CODE HERE\n",
    "\n",
    "y_predict = pd.Series(index=y_future.index, data=y_preidct_data)\n",
    "\n",
    "fig6 = plt.figure(figsize=(15,5))\n",
    "# ADD CODE HERE\n"
   ]
  },
  {
   "cell_type": "code",
   "execution_count": null,
   "metadata": {},
   "outputs": [],
   "source": [
    "################################\n",
    "# Reporting. Do not modify.#####\n",
    "result['fig6'] = fig6\n",
    "################################"
   ]
  },
  {
   "cell_type": "markdown",
   "metadata": {},
   "source": [
    "Plot the residuals and prediction errors as time series, and on the same plot (but with different colors)."
   ]
  },
  {
   "cell_type": "code",
   "execution_count": null,
   "metadata": {},
   "outputs": [],
   "source": [
    "fig7 = plt.figure(figsize=(15,5))\n",
    "# ADD CODE HERE\n"
   ]
  },
  {
   "cell_type": "code",
   "execution_count": null,
   "metadata": {},
   "outputs": [],
   "source": [
    "################################\n",
    "# Reporting. Do not modify.#####\n",
    "result['fig7'] = fig7\n",
    "################################"
   ]
  },
  {
   "cell_type": "markdown",
   "metadata": {},
   "source": [
    "Comment on the strengths and weaknesses of this approach to modeling relative to other time series techniques. "
   ]
  },
  {
   "cell_type": "code",
   "execution_count": null,
   "metadata": {},
   "outputs": [],
   "source": [
    "comment = ''"
   ]
  },
  {
   "cell_type": "code",
   "execution_count": null,
   "metadata": {},
   "outputs": [],
   "source": [
    "################################\n",
    "# Reporting. Do not modify.#####\n",
    "result['comment'] = comment\n",
    "################################"
   ]
  },
  {
   "cell_type": "markdown",
   "metadata": {},
   "source": [
    "---\n",
    "## Do not modify below this"
   ]
  },
  {
   "cell_type": "code",
   "execution_count": null,
   "metadata": {},
   "outputs": [],
   "source": [
    "with open('group_{}.pickle'.format(result['group_number']),'wb') as file:\n",
    "    pickle.dump(result,file)"
   ]
  }
 ],
 "metadata": {
  "interpreter": {
   "hash": "3b8b5ce4b1bd0cdb09a48c826d4154f25cb98d27fcdd75ace86cf123225b5557"
  },
  "kernelspec": {
   "display_name": "Python 3 (ipykernel)",
   "language": "python",
   "name": "python3"
  },
  "language_info": {
   "codemirror_mode": {
    "name": "ipython",
    "version": 3
   },
   "file_extension": ".py",
   "mimetype": "text/x-python",
   "name": "python",
   "nbconvert_exporter": "python",
   "pygments_lexer": "ipython3",
   "version": "3.9.9"
  }
 },
 "nbformat": 4,
 "nbformat_minor": 2
}
